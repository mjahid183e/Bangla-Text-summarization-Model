{
  "cells": [
    {
      "cell_type": "markdown",
      "metadata": {
        "id": "view-in-github",
        "colab_type": "text"
      },
      "source": [
        "<a href=\"https://colab.research.google.com/github/mjahid183e/Bangla-Text-summarization-Model/blob/main/BestTrainedVersion_CapstoneDesign_CSE499_Bangla_Text_summarizer_UsingGenerativeAIModel.ipynb\" target=\"_parent\"><img src=\"https://colab.research.google.com/assets/colab-badge.svg\" alt=\"Open In Colab\"/></a>"
      ]
    },
    {
      "cell_type": "markdown",
      "metadata": {
        "id": "SkFeEF5GWn5L"
      },
      "source": [
        "# **Install libraries**"
      ]
    },
    {
      "cell_type": "code",
      "execution_count": null,
      "metadata": {
        "colab": {
          "base_uri": "https://localhost:8080/"
        },
        "id": "IUloRwOyRd0c",
        "outputId": "ec9dcb30-0c05-46d9-f207-a6d108c90f9f"
      },
      "outputs": [
        {
          "name": "stdout",
          "output_type": "stream",
          "text": [
            "Mounted at /content/drive\n"
          ]
        }
      ],
      "source": [
        "from google.colab import drive\n",
        "drive.mount('/content/drive')"
      ]
    },
    {
      "cell_type": "code",
      "execution_count": null,
      "metadata": {
        "colab": {
          "base_uri": "https://localhost:8080/"
        },
        "id": "vreoRa3vYiDw",
        "outputId": "4a6a09e9-2953-4714-ec57-00b940162f5d"
      },
      "outputs": [
        {
          "name": "stdout",
          "output_type": "stream",
          "text": [
            "/content/drive/MyDrive/Colab Notebooks\n"
          ]
        }
      ],
      "source": [
        "%cd '/content/drive/MyDrive/Colab Notebooks/'"
      ]
    },
    {
      "cell_type": "code",
      "execution_count": null,
      "metadata": {
        "colab": {
          "base_uri": "https://localhost:8080/"
        },
        "id": "AgGcpW98WysP",
        "outputId": "c40429d7-6696-4c38-f157-cc607f4e9919"
      },
      "outputs": [
        {
          "name": "stdout",
          "output_type": "stream",
          "text": [
            "Collecting accelerate\n",
            "  Downloading accelerate-0.26.1-py3-none-any.whl (270 kB)\n",
            "\u001b[?25l     \u001b[90m━━━━━━━━━━━━━━━━━━━━━━━━━━━━━━━━━━━━━━━━\u001b[0m \u001b[32m0.0/270.9 kB\u001b[0m \u001b[31m?\u001b[0m eta \u001b[36m-:--:--\u001b[0m\r\u001b[2K     \u001b[91m━━━━━━━━━━━━━\u001b[0m\u001b[91m╸\u001b[0m\u001b[90m━━━━━━━━━━━━━━━━━━━━━━━━━━\u001b[0m \u001b[32m92.2/270.9 kB\u001b[0m \u001b[31m2.7 MB/s\u001b[0m eta \u001b[36m0:00:01\u001b[0m\r\u001b[2K     \u001b[90m━━━━━━━━━━━━━━━━━━━━━━━━━━━━━━━━━━━━━━━━\u001b[0m \u001b[32m270.9/270.9 kB\u001b[0m \u001b[31m4.7 MB/s\u001b[0m eta \u001b[36m0:00:00\u001b[0m\n",
            "\u001b[?25hRequirement already satisfied: numpy>=1.17 in /usr/local/lib/python3.10/dist-packages (from accelerate) (1.23.5)\n",
            "Requirement already satisfied: packaging>=20.0 in /usr/local/lib/python3.10/dist-packages (from accelerate) (23.2)\n",
            "Requirement already satisfied: psutil in /usr/local/lib/python3.10/dist-packages (from accelerate) (5.9.5)\n",
            "Requirement already satisfied: pyyaml in /usr/local/lib/python3.10/dist-packages (from accelerate) (6.0.1)\n",
            "Requirement already satisfied: torch>=1.10.0 in /usr/local/lib/python3.10/dist-packages (from accelerate) (2.1.0+cu121)\n",
            "Requirement already satisfied: huggingface-hub in /usr/local/lib/python3.10/dist-packages (from accelerate) (0.20.2)\n",
            "Requirement already satisfied: safetensors>=0.3.1 in /usr/local/lib/python3.10/dist-packages (from accelerate) (0.4.1)\n",
            "Requirement already satisfied: filelock in /usr/local/lib/python3.10/dist-packages (from torch>=1.10.0->accelerate) (3.13.1)\n",
            "Requirement already satisfied: typing-extensions in /usr/local/lib/python3.10/dist-packages (from torch>=1.10.0->accelerate) (4.5.0)\n",
            "Requirement already satisfied: sympy in /usr/local/lib/python3.10/dist-packages (from torch>=1.10.0->accelerate) (1.12)\n",
            "Requirement already satisfied: networkx in /usr/local/lib/python3.10/dist-packages (from torch>=1.10.0->accelerate) (3.2.1)\n",
            "Requirement already satisfied: jinja2 in /usr/local/lib/python3.10/dist-packages (from torch>=1.10.0->accelerate) (3.1.2)\n",
            "Requirement already satisfied: fsspec in /usr/local/lib/python3.10/dist-packages (from torch>=1.10.0->accelerate) (2023.6.0)\n",
            "Requirement already satisfied: triton==2.1.0 in /usr/local/lib/python3.10/dist-packages (from torch>=1.10.0->accelerate) (2.1.0)\n",
            "Requirement already satisfied: requests in /usr/local/lib/python3.10/dist-packages (from huggingface-hub->accelerate) (2.31.0)\n",
            "Requirement already satisfied: tqdm>=4.42.1 in /usr/local/lib/python3.10/dist-packages (from huggingface-hub->accelerate) (4.66.1)\n",
            "Requirement already satisfied: MarkupSafe>=2.0 in /usr/local/lib/python3.10/dist-packages (from jinja2->torch>=1.10.0->accelerate) (2.1.3)\n",
            "Requirement already satisfied: charset-normalizer<4,>=2 in /usr/local/lib/python3.10/dist-packages (from requests->huggingface-hub->accelerate) (3.3.2)\n",
            "Requirement already satisfied: idna<4,>=2.5 in /usr/local/lib/python3.10/dist-packages (from requests->huggingface-hub->accelerate) (3.6)\n",
            "Requirement already satisfied: urllib3<3,>=1.21.1 in /usr/local/lib/python3.10/dist-packages (from requests->huggingface-hub->accelerate) (2.0.7)\n",
            "Requirement already satisfied: certifi>=2017.4.17 in /usr/local/lib/python3.10/dist-packages (from requests->huggingface-hub->accelerate) (2023.11.17)\n",
            "Requirement already satisfied: mpmath>=0.19 in /usr/local/lib/python3.10/dist-packages (from sympy->torch>=1.10.0->accelerate) (1.3.0)\n",
            "Installing collected packages: accelerate\n",
            "Successfully installed accelerate-0.26.1\n",
            "\u001b[2K     \u001b[90m━━━━━━━━━━━━━━━━━━━━━━━━━━━━━━━━━━━━━━━━\u001b[0m \u001b[32m7.0/7.0 MB\u001b[0m \u001b[31m38.1 MB/s\u001b[0m eta \u001b[36m0:00:00\u001b[0m\n",
            "\u001b[2K     \u001b[90m━━━━━━━━━━━━━━━━━━━━━━━━━━━━━━━━━━━━━━━━\u001b[0m \u001b[32m7.8/7.8 MB\u001b[0m \u001b[31m38.4 MB/s\u001b[0m eta \u001b[36m0:00:00\u001b[0m\n",
            "\u001b[?25hRequirement already satisfied: transformers[torch] in /usr/local/lib/python3.10/dist-packages (4.28.0)\n",
            "Requirement already satisfied: filelock in /usr/local/lib/python3.10/dist-packages (from transformers[torch]) (3.13.1)\n",
            "Requirement already satisfied: huggingface-hub<1.0,>=0.11.0 in /usr/local/lib/python3.10/dist-packages (from transformers[torch]) (0.20.2)\n",
            "Requirement already satisfied: numpy>=1.17 in /usr/local/lib/python3.10/dist-packages (from transformers[torch]) (1.23.5)\n",
            "Requirement already satisfied: packaging>=20.0 in /usr/local/lib/python3.10/dist-packages (from transformers[torch]) (23.2)\n",
            "Requirement already satisfied: pyyaml>=5.1 in /usr/local/lib/python3.10/dist-packages (from transformers[torch]) (6.0.1)\n",
            "Requirement already satisfied: regex!=2019.12.17 in /usr/local/lib/python3.10/dist-packages (from transformers[torch]) (2023.6.3)\n",
            "Requirement already satisfied: requests in /usr/local/lib/python3.10/dist-packages (from transformers[torch]) (2.31.0)\n",
            "Requirement already satisfied: tokenizers!=0.11.3,<0.14,>=0.11.1 in /usr/local/lib/python3.10/dist-packages (from transformers[torch]) (0.13.3)\n",
            "Requirement already satisfied: tqdm>=4.27 in /usr/local/lib/python3.10/dist-packages (from transformers[torch]) (4.66.1)\n",
            "Requirement already satisfied: torch!=1.12.0,>=1.9 in /usr/local/lib/python3.10/dist-packages (from transformers[torch]) (2.1.0+cu121)\n",
            "Requirement already satisfied: fsspec>=2023.5.0 in /usr/local/lib/python3.10/dist-packages (from huggingface-hub<1.0,>=0.11.0->transformers[torch]) (2023.6.0)\n",
            "Requirement already satisfied: typing-extensions>=3.7.4.3 in /usr/local/lib/python3.10/dist-packages (from huggingface-hub<1.0,>=0.11.0->transformers[torch]) (4.5.0)\n",
            "Requirement already satisfied: sympy in /usr/local/lib/python3.10/dist-packages (from torch!=1.12.0,>=1.9->transformers[torch]) (1.12)\n",
            "Requirement already satisfied: networkx in /usr/local/lib/python3.10/dist-packages (from torch!=1.12.0,>=1.9->transformers[torch]) (3.2.1)\n",
            "Requirement already satisfied: jinja2 in /usr/local/lib/python3.10/dist-packages (from torch!=1.12.0,>=1.9->transformers[torch]) (3.1.2)\n",
            "Requirement already satisfied: triton==2.1.0 in /usr/local/lib/python3.10/dist-packages (from torch!=1.12.0,>=1.9->transformers[torch]) (2.1.0)\n",
            "Requirement already satisfied: charset-normalizer<4,>=2 in /usr/local/lib/python3.10/dist-packages (from requests->transformers[torch]) (3.3.2)\n",
            "Requirement already satisfied: idna<4,>=2.5 in /usr/local/lib/python3.10/dist-packages (from requests->transformers[torch]) (3.6)\n",
            "Requirement already satisfied: urllib3<3,>=1.21.1 in /usr/local/lib/python3.10/dist-packages (from requests->transformers[torch]) (2.0.7)\n",
            "Requirement already satisfied: certifi>=2017.4.17 in /usr/local/lib/python3.10/dist-packages (from requests->transformers[torch]) (2023.11.17)\n",
            "Requirement already satisfied: MarkupSafe>=2.0 in /usr/local/lib/python3.10/dist-packages (from jinja2->torch!=1.12.0,>=1.9->transformers[torch]) (2.1.3)\n",
            "Requirement already satisfied: mpmath>=0.19 in /usr/local/lib/python3.10/dist-packages (from sympy->torch!=1.12.0,>=1.9->transformers[torch]) (1.3.0)\n",
            "Requirement already satisfied: torchdata==0.7.0 in /usr/local/lib/python3.10/dist-packages (0.7.0)\n",
            "Requirement already satisfied: urllib3>=1.25 in /usr/local/lib/python3.10/dist-packages (from torchdata==0.7.0) (2.0.7)\n",
            "Requirement already satisfied: requests in /usr/local/lib/python3.10/dist-packages (from torchdata==0.7.0) (2.31.0)\n",
            "Requirement already satisfied: torch==2.1.0 in /usr/local/lib/python3.10/dist-packages (from torchdata==0.7.0) (2.1.0+cu121)\n",
            "Requirement already satisfied: filelock in /usr/local/lib/python3.10/dist-packages (from torch==2.1.0->torchdata==0.7.0) (3.13.1)\n",
            "Requirement already satisfied: typing-extensions in /usr/local/lib/python3.10/dist-packages (from torch==2.1.0->torchdata==0.7.0) (4.5.0)\n",
            "Requirement already satisfied: sympy in /usr/local/lib/python3.10/dist-packages (from torch==2.1.0->torchdata==0.7.0) (1.12)\n",
            "Requirement already satisfied: networkx in /usr/local/lib/python3.10/dist-packages (from torch==2.1.0->torchdata==0.7.0) (3.2.1)\n",
            "Requirement already satisfied: jinja2 in /usr/local/lib/python3.10/dist-packages (from torch==2.1.0->torchdata==0.7.0) (3.1.2)\n",
            "Requirement already satisfied: fsspec in /usr/local/lib/python3.10/dist-packages (from torch==2.1.0->torchdata==0.7.0) (2023.6.0)\n",
            "Requirement already satisfied: triton==2.1.0 in /usr/local/lib/python3.10/dist-packages (from torch==2.1.0->torchdata==0.7.0) (2.1.0)\n",
            "Requirement already satisfied: charset-normalizer<4,>=2 in /usr/local/lib/python3.10/dist-packages (from requests->torchdata==0.7.0) (3.3.2)\n",
            "Requirement already satisfied: idna<4,>=2.5 in /usr/local/lib/python3.10/dist-packages (from requests->torchdata==0.7.0) (3.6)\n",
            "Requirement already satisfied: certifi>=2017.4.17 in /usr/local/lib/python3.10/dist-packages (from requests->torchdata==0.7.0) (2023.11.17)\n",
            "Requirement already satisfied: MarkupSafe>=2.0 in /usr/local/lib/python3.10/dist-packages (from jinja2->torch==2.1.0->torchdata==0.7.0) (2.1.3)\n",
            "Requirement already satisfied: mpmath>=0.19 in /usr/local/lib/python3.10/dist-packages (from sympy->torch==2.1.0->torchdata==0.7.0) (1.3.0)\n",
            "\u001b[2K     \u001b[90m━━━━━━━━━━━━━━━━━━━━━━━━━━━━━━━━━━━━━━━━\u001b[0m \u001b[32m507.1/507.1 kB\u001b[0m \u001b[31m9.0 MB/s\u001b[0m eta \u001b[36m0:00:00\u001b[0m\n",
            "\u001b[2K     \u001b[90m━━━━━━━━━━━━━━━━━━━━━━━━━━━━━━━━━━━━━━━━\u001b[0m \u001b[32m1.3/1.3 MB\u001b[0m \u001b[31m76.2 MB/s\u001b[0m eta \u001b[36m0:00:00\u001b[0m\n",
            "\u001b[2K     \u001b[90m━━━━━━━━━━━━━━━━━━━━━━━━━━━━━━━━━━━━━━━━\u001b[0m \u001b[32m84.1/84.1 kB\u001b[0m \u001b[31m11.4 MB/s\u001b[0m eta \u001b[36m0:00:00\u001b[0m\n",
            "\u001b[?25h  Preparing metadata (setup.py) ... \u001b[?25l\u001b[?25hdone\n",
            "\u001b[2K     \u001b[90m━━━━━━━━━━━━━━━━━━━━━━━━━━━━━━━━━━━━━━━━\u001b[0m \u001b[32m115.3/115.3 kB\u001b[0m \u001b[31m16.2 MB/s\u001b[0m eta \u001b[36m0:00:00\u001b[0m\n",
            "\u001b[2K     \u001b[90m━━━━━━━━━━━━━━━━━━━━━━━━━━━━━━━━━━━━━━━━\u001b[0m \u001b[32m134.8/134.8 kB\u001b[0m \u001b[31m19.1 MB/s\u001b[0m eta \u001b[36m0:00:00\u001b[0m\n",
            "\u001b[?25h  Building wheel for rouge_score (setup.py) ... \u001b[?25l\u001b[?25hdone\n",
            "Requirement already satisfied: rouge_score==0.1.2 in /usr/local/lib/python3.10/dist-packages (0.1.2)\n",
            "Requirement already satisfied: absl-py in /usr/local/lib/python3.10/dist-packages (from rouge_score==0.1.2) (1.4.0)\n",
            "Requirement already satisfied: nltk in /usr/local/lib/python3.10/dist-packages (from rouge_score==0.1.2) (3.8.1)\n",
            "Requirement already satisfied: numpy in /usr/local/lib/python3.10/dist-packages (from rouge_score==0.1.2) (1.23.5)\n",
            "Requirement already satisfied: six>=1.14.0 in /usr/local/lib/python3.10/dist-packages (from rouge_score==0.1.2) (1.16.0)\n",
            "Requirement already satisfied: click in /usr/local/lib/python3.10/dist-packages (from nltk->rouge_score==0.1.2) (8.1.7)\n",
            "Requirement already satisfied: joblib in /usr/local/lib/python3.10/dist-packages (from nltk->rouge_score==0.1.2) (1.3.2)\n",
            "Requirement already satisfied: regex>=2021.8.3 in /usr/local/lib/python3.10/dist-packages (from nltk->rouge_score==0.1.2) (2023.6.3)\n",
            "Requirement already satisfied: tqdm in /usr/local/lib/python3.10/dist-packages (from nltk->rouge_score==0.1.2) (4.66.1)\n",
            "Collecting loralib==0.1.1\n",
            "  Downloading loralib-0.1.1-py3-none-any.whl (8.8 kB)\n",
            "Installing collected packages: loralib\n",
            "Successfully installed loralib-0.1.1\n",
            "\u001b[2K     \u001b[90m━━━━━━━━━━━━━━━━━━━━━━━━━━━━━━━━━━━━━━━━\u001b[0m \u001b[32m56.8/56.8 kB\u001b[0m \u001b[31m2.2 MB/s\u001b[0m eta \u001b[36m0:00:00\u001b[0m\n",
            "\u001b[?25h"
          ]
        }
      ],
      "source": [
        "!pip install accelerate\n",
        "!pip install transformers==4.28.0 -q\n",
        "!pip install transformers[torch]\n",
        "!pip install torchdata==0.7.0\n",
        "!pip install datasets sentencepiece evaluate rouge_score -q\n",
        "# !pip install evaluate==0.4.0\n",
        "!pip install rouge_score==0.1.2\n",
        "!pip install --upgrade accelerate -q\n",
        "!pip install loralib==0.1.1\n",
        "!pip install peft==0.3.0 --quiet"
      ]
    },
    {
      "cell_type": "code",
      "execution_count": null,
      "metadata": {
        "id": "9PfgBJTkqu_W"
      },
      "outputs": [],
      "source": [
        "from datasets import load_dataset\n",
        "from transformers import AutoModelForSeq2SeqLM, AutoTokenizer, GenerationConfig, Seq2SeqTrainingArguments, Seq2SeqTrainer, AutoConfig\n",
        "import torch\n",
        "import time\n",
        "# import evalute\n",
        "import pandas as pd\n",
        "import numpy as np\n"
      ]
    },
    {
      "cell_type": "markdown",
      "metadata": {
        "id": "053dOZqDhS_X"
      },
      "source": []
    },
    {
      "cell_type": "markdown",
      "metadata": {
        "id": "TiPmE6upqaU3"
      },
      "source": [
        "# **XL-sum dataset**"
      ]
    },
    {
      "cell_type": "markdown",
      "metadata": {
        "id": "Wcyk0-XeVIv8"
      },
      "source": [
        "Here we use XL-Sum Bengali dataset from Hugging Face Library, which is the annotated article-summary pairs from BBC news corpus."
      ]
    },
    {
      "cell_type": "code",
      "execution_count": null,
      "metadata": {
        "id": "K93JKZtepYkI"
      },
      "outputs": [],
      "source": [
        "huggingface_dataset_name = \"csebuetnlp/xlsum\"\n",
        "ds = load_dataset(huggingface_dataset_name, 'bengali')\n",
        "ds"
      ]
    },
    {
      "cell_type": "code",
      "execution_count": null,
      "metadata": {
        "id": "WrL6y8nFvMDj"
      },
      "outputs": [],
      "source": [
        "example_indices = [40, 200]\n",
        "dash_line = '-'.join('' for x in range(100))\n",
        "\n",
        "for i, index in enumerate(example_indices):\n",
        "  print(dash_line)\n",
        "  print('Example ', i + 1)\n",
        "  print(dash_line)\n",
        "  print('Input News: ')\n",
        "  print(ds['test'] [index] ['text'])\n",
        "  print(dash_line)\n",
        "  print('BaseLine human summary: ')\n",
        "  print(ds['test'] [index] ['summary'])\n",
        "  print(dash_line)\n",
        "  print()"
      ]
    },
    {
      "cell_type": "markdown",
      "metadata": {
        "id": "RCA4uMJUbkZF"
      },
      "source": [
        "# Preprocessing, and converting the Dataset into Instruction Dataset (prompt-response)"
      ]
    },
    {
      "cell_type": "markdown",
      "metadata": {
        "id": "0YESYDzqBgEO"
      },
      "source": [
        "- To generate inputs for fine-tuning, tokenize texts into ids.\n",
        "- First, we prepare a **tokenizer** in the pre-trained mT5 model."
      ]
    },
    {
      "cell_type": "code",
      "execution_count": null,
      "metadata": {
        "colab": {
          "base_uri": "https://localhost:8080/",
          "height": 304,
          "referenced_widgets": [
            "f35f950f4a34487790ecec17485b6c41",
            "4cc934f0cab048f5aff3713d69705874",
            "bc8340571faf48fea921c01e2ef3cbb7",
            "a8390cfb6a204410832d8d8517a37ff9",
            "8a3196d617844d8c8bc7e8ceb4075c2a",
            "91eda9603a2546209a7783fe55706bfa",
            "9d52e827b83c4134af1d2b0c52311dc4",
            "1705ce702bc34cf5afbc90576bfb956b",
            "f18731c90ac04cb3a58ecd85dd370a54",
            "9ed88e9cf38a44e3a5e9b4c3571715d0",
            "80fcf6c975c0440eaa625ba9967901e0",
            "5abc26a08cd443429f39f3192735d1be",
            "f36d9530d13b4dba84e47b32d5cc9dfb",
            "c95a1e658e8c451c975a1c2ab0771745",
            "8c84086b28c84d1194888065ba3e7910",
            "2cf366660b7d4ee8a2e0e34a67b8c828",
            "6fd9bfbf86384f5ca2d725523129a76e",
            "8c974d52c0a2478895a2fa0515237f03",
            "06c1a66ac92d4bf78ee98d103de714c1",
            "5193afa73e954d4eaf3c2c3739cae020",
            "1b80f87ba82744c4aba0e7729a8bf4a4",
            "3bb327e08b174c4eb27c169d37ad930a",
            "a755bc8b40904b528198bf1f4f9cccd0",
            "24441051ca0e43bba93c2720164bca5c",
            "52d9a284d1df47889de6622d057876a9",
            "246446b9607441bd81828b2df24bbfe1",
            "8cd64b2fec514d4fa37402329a19e8a8",
            "4e3a8b50e70d4262a4459ff0b5a80844",
            "7fd809c85f4d4caf99e2c286f23a79f8",
            "d6881fb9af0441448e940e5abce7f08e",
            "0f894ad285ec4c0b802d8c84685cfc8a",
            "947cf2de52db47e29d83b1fddf49246a",
            "4fce8829eda1434fb75445e51944692b",
            "863bc1507b264b99896e52ace26e444e",
            "32f9c23a885d4d378c5056e707e61db0",
            "967892e5953d4a9e875f0905310c1088",
            "acfa44d876914ba2b10334d8618dd338",
            "b6813198f9294e798b47ecdfe3e8e050",
            "403841a6222f40eda7fc76ff82ab3b44",
            "b3649ae66cdf4ceea5aa6d00975e39b7",
            "d230a204f56d4636a049418eb428d03f",
            "30dd14edafac4de2bf50e6baa7732225",
            "64eb3bbdd2e544768e2e94d3a660ca1a",
            "0dd59dfc46b34bd1afcd09678a0566cf"
          ]
        },
        "id": "AHx2xBLnBnMo",
        "outputId": "45872e23-48b2-40a6-95ae-3428b6d19d24"
      },
      "outputs": [
        {
          "name": "stderr",
          "output_type": "stream",
          "text": [
            "/usr/local/lib/python3.10/dist-packages/huggingface_hub/utils/_token.py:88: UserWarning: \n",
            "The secret `HF_TOKEN` does not exist in your Colab secrets.\n",
            "To authenticate with the Hugging Face Hub, create a token in your settings tab (https://huggingface.co/settings/tokens), set it as secret in your Google Colab and restart your session.\n",
            "You will be able to reuse this secret in all of your notebooks.\n",
            "Please note that authentication is recommended but still optional to access public models or datasets.\n",
            "  warnings.warn(\n"
          ]
        },
        {
          "data": {
            "application/vnd.jupyter.widget-view+json": {
              "model_id": "f35f950f4a34487790ecec17485b6c41",
              "version_major": 2,
              "version_minor": 0
            },
            "text/plain": [
              "tokenizer_config.json:   0%|          | 0.00/82.0 [00:00<?, ?B/s]"
            ]
          },
          "metadata": {},
          "output_type": "display_data"
        },
        {
          "data": {
            "application/vnd.jupyter.widget-view+json": {
              "model_id": "5abc26a08cd443429f39f3192735d1be",
              "version_major": 2,
              "version_minor": 0
            },
            "text/plain": [
              "config.json:   0%|          | 0.00/553 [00:00<?, ?B/s]"
            ]
          },
          "metadata": {},
          "output_type": "display_data"
        },
        {
          "data": {
            "application/vnd.jupyter.widget-view+json": {
              "model_id": "a755bc8b40904b528198bf1f4f9cccd0",
              "version_major": 2,
              "version_minor": 0
            },
            "text/plain": [
              "spiece.model:   0%|          | 0.00/4.31M [00:00<?, ?B/s]"
            ]
          },
          "metadata": {},
          "output_type": "display_data"
        },
        {
          "data": {
            "application/vnd.jupyter.widget-view+json": {
              "model_id": "863bc1507b264b99896e52ace26e444e",
              "version_major": 2,
              "version_minor": 0
            },
            "text/plain": [
              "special_tokens_map.json:   0%|          | 0.00/99.0 [00:00<?, ?B/s]"
            ]
          },
          "metadata": {},
          "output_type": "display_data"
        },
        {
          "name": "stderr",
          "output_type": "stream",
          "text": [
            "/usr/local/lib/python3.10/dist-packages/transformers/convert_slow_tokenizer.py:454: UserWarning: The sentencepiece tokenizer that you are converting to a fast tokenizer uses the byte fallback option which is not implemented in the fast tokenizers. In practice this means that the fast version of the tokenizer can produce unknown tokens whereas the sentencepiece version would have converted these unknown tokens into a sequence of byte tokens matching the original piece of text.\n",
            "  warnings.warn(\n"
          ]
        }
      ],
      "source": [
        "t5_tokenizer = AutoTokenizer.from_pretrained(\"google/mt5-small\")"
      ]
    },
    {
      "cell_type": "markdown",
      "metadata": {
        "id": "xG_ZrgmVC_xp"
      },
      "source": [
        "**Convertion of text to token ids (the sequence of integer) as follows. The generated inputs (tokenized_dataset) will have token ids for article text and summary text, each of which is in input_ids and labels, respectively.**"
      ]
    },
    {
      "cell_type": "code",
      "execution_count": null,
      "metadata": {
        "id": "jbkf44jKbv4j"
      },
      "outputs": [],
      "source": [
        "def tokenize_function(example):\n",
        "\n",
        "  start_prompt = 'Summarize the following text:\\n'\n",
        "  end_prompt = '\\nSummary: '\n",
        "  prompt = [start_prompt + text + end_prompt for text in example[\"text\"]]\n",
        "  example['input_ids'] = t5_tokenizer(prompt, max_length=1024, truncation=True, padding=True, return_tensors=\"pt\").input_ids\n",
        "  example['labels'] = t5_tokenizer(example[\"summary\"], max_length=128, truncation=True, padding=True, return_tensors=\"pt\").input_ids\n",
        "\n",
        "  return example\n",
        "\n",
        "tokenized_datasets = ds.map(tokenize_function, batched=True)\n",
        "tokenized_datasets = tokenized_datasets.remove_columns(['id', 'url', 'title', 'summary', 'text',])\n",
        "\n",
        "print(f\"Shapes of the datasets:\")\n",
        "print(f\"Training: {tokenized_datasets['train'].shape}\")\n",
        "print(f\"Validation: {tokenized_datasets['validation'].shape}\")\n",
        "print(f\"Test: {tokenized_datasets['test'].shape}\")\n",
        "\n",
        "print(tokenized_datasets)\n"
      ]
    },
    {
      "cell_type": "markdown",
      "metadata": {
        "id": "SY_0i3jKERJR"
      },
      "source": [
        "# **Practice of an example of tokenization (Encoding-Decoding)**"
      ]
    },
    {
      "cell_type": "code",
      "execution_count": null,
      "metadata": {
        "colab": {
          "background_save": true
        },
        "id": "6ipXp9GdSjxu",
        "outputId": "c0d8bab6-bfc9-4d8f-c730-33740c3cda9e"
      },
      "outputs": [
        {
          "ename": "SyntaxError",
          "evalue": "invalid syntax (<ipython-input-1-0897cf33d2c8>, line 14)",
          "output_type": "error",
          "traceback": [
            "\u001b[0;36m  File \u001b[0;32m\"<ipython-input-1-0897cf33d2c8>\"\u001b[0;36m, line \u001b[0;32m14\u001b[0m\n\u001b[0;31m    str abir = Abir Hasan isnot a boy;\u001b[0m\n\u001b[0m        ^\u001b[0m\n\u001b[0;31mSyntaxError\u001b[0m\u001b[0;31m:\u001b[0m invalid syntax\n"
          ]
        }
      ],
      "source": [
        "sentence = \"বাংলাদেশে করোনাভাইরাসের কারণে নয় মাসেরও বেশি সময় ধরে বন্ধ রয়েছে সব ধরণের শিক্ষা প্রতিষ্ঠান। মনোবিজ্ঞানীরা বলছেন, দীর্ঘ সময় স্কুলের বাইরে থাকার কারণে অনেক শিশুর মধ্যেই আচরণগত পরিবর্তন আসতে পারে।\"\n",
        "sentence_encoded = t5_tokenizer(sentence, return_tensors='pt')\n",
        "\n",
        "sentence_decoded = t5_tokenizer.decode(\n",
        "    sentence_encoded[\"input_ids\"] [0],\n",
        "    skip_special_tokens = True\n",
        ")\n",
        "\n",
        "print('Encoded Sentence: ')\n",
        "print(sentence_encoded[\"input_ids\"] [0])\n",
        "print('\\nDecoded Sentence: ')\n",
        "print(sentence_decoded)\n",
        "\n",
        "str abir = Abir Hasan isnot a boy;\n",
        "print(\"Iffat is a boy!\", abir)"
      ]
    },
    {
      "cell_type": "markdown",
      "metadata": {
        "id": "nEnPsBfGeGZT"
      },
      "source": [
        "# **Pretrained model**\n",
        "\n",
        "\n"
      ]
    },
    {
      "cell_type": "code",
      "execution_count": null,
      "metadata": {
        "colab": {
          "base_uri": "https://localhost:8080/",
          "height": 81,
          "referenced_widgets": [
            "38486e7250b44015843598ee891746d2",
            "cd6afd1183914afeb168ffabe86c4f81",
            "0a8d163e1e6b4c6bb3c3a5aadc2fcc49",
            "3498b92c216e40d590797016aa7a0164",
            "506b0eca0b5b429391ca848b534998b6",
            "8cfbbab33fee45faa992edf7d5782eeb",
            "e340946568ce43339a2a26708b5ec4ef",
            "ba77cbbebcb4430d9c7ae3a253734bcb",
            "64099d8a6c294f079c3e6a437826a676",
            "9ee911c9fdfe400c90176b2f758d660a",
            "104009e015fc45088b8d280fce0119a6",
            "a8e39d68f8c148cdbee06d29101716ce",
            "0423294bc5e34dcdbef02f001a0656af",
            "b5799a56ef1847c3babbf691e36c6ad8",
            "951f03cbc44046089cded5b6abcfc9c0",
            "3706d85ac9e342fd9ff10ae3ef98f01f",
            "69a6514717fa46b5bd7831704b69d50c",
            "77e153f9c7a643208fea87614bad134f",
            "bdcb643a860c41d4a0fe1f6c6702c390",
            "ce9be3527cb042dd8bac9d71a86d7bad",
            "360358d65b814887a52ba09e10a2446b",
            "629b366d04dc4a95bdf66971a0852135"
          ]
        },
        "id": "0VGop9U8-ruh",
        "outputId": "4feb9a38-7bf7-4384-d810-6ce219e8d4fd"
      },
      "outputs": [
        {
          "data": {
            "application/vnd.jupyter.widget-view+json": {
              "model_id": "38486e7250b44015843598ee891746d2",
              "version_major": 2,
              "version_minor": 0
            },
            "text/plain": [
              "pytorch_model.bin:   0%|          | 0.00/1.20G [00:00<?, ?B/s]"
            ]
          },
          "metadata": {},
          "output_type": "display_data"
        },
        {
          "data": {
            "application/vnd.jupyter.widget-view+json": {
              "model_id": "a8e39d68f8c148cdbee06d29101716ce",
              "version_major": 2,
              "version_minor": 0
            },
            "text/plain": [
              "generation_config.json:   0%|          | 0.00/147 [00:00<?, ?B/s]"
            ]
          },
          "metadata": {},
          "output_type": "display_data"
        }
      ],
      "source": [
        "model_name = 'google/mt5-small'\n",
        "device = torch.device(\"cuda\" if torch.cuda.is_available() else \"cpu\")\n",
        "\n",
        "mt5_config = AutoConfig.from_pretrained(\n",
        "  model_name,\n",
        "  max_length=128,\n",
        "  length_penalty=1,\n",
        "  no_repeat_ngram_size=2,\n",
        "  num_beams=15,\n",
        ")\n",
        "\n",
        "model = (AutoModelForSeq2SeqLM.from_pretrained(model_name, config=mt5_config).to(device))\n"
      ]
    },
    {
      "cell_type": "markdown",
      "metadata": {
        "id": "8QmL125I6D2V"
      },
      "source": [
        "# **Datacollator:**"
      ]
    },
    {
      "cell_type": "code",
      "execution_count": null,
      "metadata": {
        "id": "_K4Mx9Y6B_4a"
      },
      "outputs": [],
      "source": [
        "from transformers import DataCollatorForSeq2Seq\n",
        "\n",
        "data_collator = DataCollatorForSeq2Seq(\n",
        "    t5_tokenizer,\n",
        "    model=model,\n",
        "    max_length=128,\n",
        "    return_tensors=\"pt\"\n",
        ")"
      ]
    },
    {
      "cell_type": "markdown",
      "metadata": {
        "id": "eGFa6M7AOcRi"
      },
      "source": [
        "# **The number of model parameters and finding out how many of them are trainable**"
      ]
    },
    {
      "cell_type": "code",
      "execution_count": null,
      "metadata": {
        "id": "2Aca7dPBOZbd"
      },
      "outputs": [],
      "source": [
        "def print_number_of_trainable_model_parameters(model):\n",
        "  trainable_model_params = 0\n",
        "  all_model_params = 0\n",
        "  for _, param in model.named_parameters():\n",
        "    all_model_params += param.numel()\n",
        "    if param.requires_grad:\n",
        "      trainable_model_params += param.numel()\n",
        "      return f\"Trainable model parameters: {trainable_model_params}\\nAll model parameters: {all_model_params}\"\n",
        "\n",
        "print(print_number_of_trainable_model_parameters(model))"
      ]
    },
    {
      "cell_type": "markdown",
      "metadata": {
        "id": "7D-uCeBHepil"
      },
      "source": [
        "**Now it's time to explore how well the base LLM summaries a news or Bangla long text corpus without any prompt engineering. Prompt engineering is an act of a human changing the prompt(input) to improve the response for a given task.**"
      ]
    },
    {
      "cell_type": "code",
      "execution_count": null,
      "metadata": {
        "id": "wtJladBxelYI"
      },
      "outputs": [],
      "source": [
        "for i, index in enumerate(example_indices):\n",
        "  bangla_text_corpus = ds['test'] [index] ['text']\n",
        "  summary = ds['test'] [index] ['summary']\n",
        "\n",
        "  inputs = t5_tokenizer(bangla_text_corpus, return_tensors='pt')\n",
        "  output = t5_tokenizer.decode(\n",
        "      model.generate(\n",
        "          inputs[\"input_ids\"],\n",
        "          generation_config=GenerationConfig(max_new_tokens=50, do_sample=True, temperature=1.5, num_beams=10),\n",
        "      )[0],\n",
        "      skip_special_tokens = True\n",
        "  )\n",
        "\n",
        "  print(dash_line)\n",
        "  print('Example ', i + 1)\n",
        "  print(dash_line)\n",
        "\n",
        "  print(f'Input Prompt:\\n{bangla_text_corpus}')\n",
        "  print(dash_line)\n",
        "\n",
        "  print(f'Baseline Human Summary:\\n{summary}')\n",
        "  print(dash_line)\n",
        "\n",
        "  print(f'Model Generated Summary - Withouth Any Prompt Engineering/Fine Tuning:\\n{output}\\n')\n"
      ]
    },
    {
      "cell_type": "markdown",
      "metadata": {
        "id": "Tr2PyIMc3wnc"
      },
      "source": [
        "# **Zero Shot Inference with an Instruction Promt:**"
      ]
    },
    {
      "cell_type": "code",
      "execution_count": null,
      "metadata": {
        "id": "ColOEyRp4Pnn"
      },
      "outputs": [],
      "source": [
        "for i, index in enumerate(example_indices):\n",
        "  bangla_text_corpus = ds['test'] [index] ['text']\n",
        "  summary = ds['test'] [index] ['summary']\n",
        "\n",
        "  prompt = f\"\"\"\n",
        "summarize the following bangla text corpus.\n",
        "{bangla_text_corpus}\n",
        "\n",
        "summary:\n",
        "  \"\"\"\n",
        "\n",
        "  # Input constructed prompt instead of the bangla text corpus\n",
        "  inputs = t5_tokenizer(prompt, return_tensors='pt')\n",
        "  output = t5_tokenizer.decode(\n",
        "      model.generate(\n",
        "          inputs[\"input_ids\"],\n",
        "          max_new_tokens = 50, temperature = 1.5,\n",
        "      )[0],\n",
        "      skip_special_tokens = True\n",
        "  )\n",
        "\n",
        "  print(dash_line)\n",
        "  print('Example ', i + 1)\n",
        "\n",
        "  print(dash_line)\n",
        "  print(f'Input Prompt:\\n{prompt}')\n",
        "  print(dash_line)\n",
        "\n",
        "  print(f'Baseline Human Generated Summary:\\n{summary}')\n",
        "  print(dash_line)\n",
        "\n",
        "  print(f'Model Generated Summary with Zero Shot Inference/In Context Learning:\\n{output}\\n')\n"
      ]
    },
    {
      "cell_type": "markdown",
      "metadata": {
        "id": "nLrHaGrOS60H"
      },
      "source": [
        "# Let's try with different **prompt**\n",
        "This is the prompt engineering side of these large language models where we're trying to find the best prompt to pass and seeing if the model does any better with slightly different phrases and in this case just zero-shot inference. No fine tuning."
      ]
    },
    {
      "cell_type": "code",
      "execution_count": null,
      "metadata": {
        "id": "_kImTOy8Uafd"
      },
      "outputs": [],
      "source": [
        "for i, index in enumerate(example_indices):\n",
        "  bangla_text_corpus = ds['test'] [index] ['text']\n",
        "  summary = ds['test'] [index] ['summary']\n",
        "\n",
        "  prompt = f\"\"\"\n",
        "  bangla_text_corpus:\n",
        "  {bangla_text_corpus}\n",
        "\n",
        "  #Create a summary of the given Bangali text.\n",
        "  #প্রবন্ধ থেকে একটি প্রবন্ধ সংক্ষেপ তৈরি করুন: একটি প্রবন্ধ দেওয়া হয়েছে।\"\n",
        "  #what was happening during covid-19 in Bangladesh?\n",
        "  #করুনা চলাকালীন সময়ে তখন কি হয়েছিল?\n",
        "  What happened during the Covid-19?\n",
        "  \"\"\"\n",
        "\n",
        "  # Input constructed prompt instead of the bangla text corpus\n",
        "  inputs = t5_tokenizer(prompt, return_tensors='pt')\n",
        "  output = t5_tokenizer.decode(\n",
        "      model.generate(\n",
        "          inputs[\"input_ids\"],\n",
        "          max_new_tokens = 50, temperature = 1.5,\n",
        "      )[0],\n",
        "      skip_special_tokens = True\n",
        "  )\n",
        "\n",
        "  print(dash_line)\n",
        "  print('Example ', i + 1)\n",
        "\n",
        "  print(dash_line)\n",
        "  print(f'Input Prompt:\\n{prompt}')\n",
        "  print(dash_line)\n",
        "\n",
        "  print(f'Baseline Human Generated Summary:\\n{summary}')\n",
        "  print(dash_line)\n",
        "\n",
        "  print(f'Model Generated Summary with Zero Shot Inference/In Context Learning:\\n{output}\\n')\n"
      ]
    },
    {
      "cell_type": "markdown",
      "metadata": {
        "id": "UuJOs6iCfuX2"
      },
      "source": [
        "# Summarize Bangla text corpus with one shot and few shot Inference\n",
        "\n",
        "*   **One Shot Inference:**\n",
        "\n"
      ]
    },
    {
      "cell_type": "code",
      "execution_count": null,
      "metadata": {
        "id": "NUSaPM-tftHx"
      },
      "outputs": [],
      "source": [
        "def  make_prompt(example_indices_full, example_index_to_summarize):\n",
        "  prompt = ''\n",
        "  for index in example_indices_full:\n",
        "    bangla_text_corpus = ds['test'][index] ['text']\n",
        "    summary = ds['test'][index]['summary']\n",
        "\n",
        "    # The stop sequence '{summary}\\n\\n\\n' is important for mt5. Other models may have their own preferred stop sequence.\n",
        "    prompt += f\"\"\"\n",
        "Summarize the following text:\n",
        "{bangla_text_corpus}\n",
        "\n",
        "# What was happen at covid-19 pandmic?\n",
        "#What was going on?\n",
        "Summary:\n",
        "{summary}\n",
        "\"\"\"\n",
        "\n",
        "    bangla_text_corpus = ds['test'] [example_index_to_summarize] ['text']\n",
        "    prompt += f\"\"\"\n",
        "Summarize the following text:\n",
        "{bangla_text_corpus}\n",
        "\n",
        "# What was happen at covid-19 pandmic?\n",
        "#What was going on?\n",
        "Summary:\n",
        "\"\"\"\n",
        "    return prompt\n"
      ]
    },
    {
      "cell_type": "markdown",
      "metadata": {
        "id": "cidG_wbZMYgl"
      },
      "source": [
        "# Construct the prompt to perform one shot inference:"
      ]
    },
    {
      "cell_type": "code",
      "execution_count": null,
      "metadata": {
        "id": "mxU0WAn-MFsU"
      },
      "outputs": [],
      "source": [
        "example_indices_full = [40]\n",
        "example_index_to_summarize = 200\n",
        "one_shot_prompt = make_prompt(example_indices_full, example_index_to_summarize)\n",
        "\n",
        "print(one_shot_prompt)"
      ]
    },
    {
      "cell_type": "markdown",
      "metadata": {
        "id": "nZNcZ5TmN-99"
      },
      "source": [
        "**Now pass this prompt to perform the one shot inference:**"
      ]
    },
    {
      "cell_type": "code",
      "execution_count": null,
      "metadata": {
        "id": "5koOcSSoOG1r"
      },
      "outputs": [],
      "source": [
        "summary = ds['test'] [example_index_to_summarize] ['summary']\n",
        "\n",
        "inputs = t5_tokenizer(one_shot_prompt, return_tensors='pt')\n",
        "output = t5_tokenizer.decode(\n",
        "    model.generate(\n",
        "        inputs[\"input_ids\"],\n",
        "        max_new_tokens = 50, temperature = 1.5,\n",
        "    )[0],\n",
        "    skip_special_tokens = True\n",
        ")\n",
        "\n",
        "print(dash_line)\n",
        "print(f'Baseline Human Generated Summary:\\n{summary}\\n')\n",
        "\n",
        "print(dash_line)\n",
        "print(f'Model Generated Summary with One shot Learning:\\n{output}')\n"
      ]
    },
    {
      "cell_type": "markdown",
      "metadata": {
        "id": "RvenM2CvWxRl"
      },
      "source": [
        "# Few Shot Inference\n",
        "Let's explore few shot inference by adding two more full BanglaText-summary pairs to the prompt."
      ]
    },
    {
      "cell_type": "code",
      "execution_count": null,
      "metadata": {
        "id": "9mtBlqf00ZVk"
      },
      "outputs": [],
      "source": [
        "def  make_prompt(example_indices_full, example_index_to_summarize):\n",
        "  prompt = ''\n",
        "  for index in example_indices_full:\n",
        "    bangla_text_corpus = ds['test'][index] ['text']\n",
        "    summary = ds['test'][index]['summary']\n",
        "\n",
        "    # The stop sequence '{summary}\\n\\n\\n' is important for mt5. Other models may have their own preferred stop sequence.\n",
        "    prompt += f\"\"\"\n",
        "bangla_text_corpus:\n",
        "{bangla_text_corpus}\n",
        "\n",
        "# What was happen at covid-19 pandmic?\n",
        "What was going on?\n",
        "{summary}\n",
        "\"\"\"\n",
        "\n",
        "    prompt += f\"\"\"\n",
        "bangla_text_corpus:\n",
        "{bangla_text_corpus}\n",
        "\n",
        "# What was happen at covid-19 pandmic?\n",
        "What was going on?\n",
        "{summary}\n",
        "\"\"\"\n",
        "\n",
        "    prompt += f\"\"\"\n",
        "bangla_text_corpus:\n",
        "{bangla_text_corpus}\n",
        "\n",
        "# What was happen at covid-19 pandmic?\n",
        "What was going on?\n",
        "{summary}\n",
        "\"\"\"\n",
        "\n",
        "    bangla_text_corpus = ds['test'] [example_index_to_summarize] ['text']\n",
        "    prompt += f\"\"\"\n",
        "bangla_text_corpus:\n",
        "{bangla_text_corpus}\n",
        "\n",
        "# What was happen at covid-19 pandmic?\n",
        "What was going on?\n",
        "\"\"\"\n",
        "    return prompt\n"
      ]
    },
    {
      "cell_type": "code",
      "execution_count": null,
      "metadata": {
        "id": "gqva1GDrW3VB"
      },
      "outputs": [],
      "source": [
        "example_indices_full = [56, 58, 32]\n",
        "example_index_to_summarize = 200\n",
        "\n",
        "few_shot_prompt = make_prompt(example_indices_full, example_index_to_summarize)\n",
        "\n",
        "print(few_shot_prompt)"
      ]
    },
    {
      "cell_type": "markdown",
      "metadata": {
        "id": "vS87Cy_fYKc0"
      },
      "source": [
        "passing this prompt to perform a few shot inference:"
      ]
    },
    {
      "cell_type": "code",
      "execution_count": null,
      "metadata": {
        "id": "nhAovx7IYZMB"
      },
      "outputs": [],
      "source": [
        "summary = ds['test'] [example_index_to_summarize] [summary]\n",
        "\n",
        "inputs = t5_tokenizer(few_shot_prompt, return_tensors='pt')\n",
        "output = t5_tokenizer.decode(\n",
        "    model.generate(\n",
        "        inputs[\"input_ids\"],\n",
        "        max_new_tokens = 50,\n",
        "    )[0],\n",
        "    skip_special_tokens = True\n",
        ")\n",
        "\n",
        "print(dash_line)\n",
        "print(f'Baseline Human Generated Summary:\\n{summary}\\n')\n",
        "\n",
        "print(dash_line)\n",
        "print(f'Model Generated Summary with Few Shot Learning:\\n{output}')\n"
      ]
    },
    {
      "cell_type": "markdown",
      "metadata": {
        "id": "sWuDD7EPsaQs"
      },
      "source": [
        "**Playing with Generative Configuration Parameters for Inference and Generated output**\n",
        "\n"
      ]
    },
    {
      "cell_type": "code",
      "execution_count": null,
      "metadata": {
        "id": "PFxXjszHsYxJ"
      },
      "outputs": [],
      "source": [
        "# generation_config = GenerationConfig(max_new_tokens = 50, do_sample = True, temperature = 0.5)\n",
        "generation_config = GenerationConfig(max_new_tokens = 40, do_sample = True, temperature = 2.0) # Tempurature value can be 0.1-2 max\n",
        "\n",
        "inputs = t5_tokenizer(few_shot_prompt, return_tensors='pt')\n",
        "output = t5_tokenizer.decode(\n",
        "    model.generate(\n",
        "        inputs[\"input_ids\"],\n",
        "        generation_config = generation_config,\n",
        "\n",
        "    )[0],\n",
        "    skip_special_tokens = True\n",
        ")\n",
        "\n",
        "print(dash_line)\n",
        "print(f'Model Generated summary with few shot:\\n{output}')\n",
        "print(dash_line)\n",
        "print(f'Baseline Human Generated Summary:\\n{summary}\\n')\n"
      ]
    },
    {
      "cell_type": "markdown",
      "metadata": {
        "id": "AL6mnXEce4YK"
      },
      "source": [
        "ROUGE, a set of metrics for Evaluating Automatic Text Summarization.**\n",
        " For instance, two sentences, “This is my book” and “The book is mine”, matches no tokens in each position, but it has similar meaning. Measuring the quality of generated text is very difficult unlike classification tasks."
      ]
    },
    {
      "cell_type": "code",
      "execution_count": null,
      "metadata": {
        "id": "_4hFA0Flp34e"
      },
      "outputs": [],
      "source": [
        "import evaluate\n",
        "from nltk.tokenize import RegexpTokenizer\n",
        "\n",
        "rouge_metric = evaluate.load(\"rouge\")\n",
        "\n",
        "# Function for custom tokenization\n",
        "def tokenize_sentence(arg):\n",
        "  encoded_arg = t5_tokenizer(arg)\n",
        "  return t5_tokenizer.convert_ids_to_tokens(encoded_arg.input_ids)\n",
        "\n",
        "# Function to get ROUGE scores with custom tokenization\n",
        "def metrics_func(eval_arg):\n",
        "  preds, labels = eval_arg\n",
        "\n",
        "  # Replace -100\n",
        "  labels = np.where(labels != -100, labels, t5_tokenizer.pad_token_id)\n",
        "\n",
        "  # Converting id tokens to text\n",
        "  text_preds = t5_tokenizer.batch_decode(preds, skip_special_tokens=True)\n",
        "  text_labels = t5_tokenizer.batch_decode(labels, skip_special_tokens=True)\n",
        "\n",
        "  # Inserting a line break (\\n) in each sentence for ROUGE scoring\n",
        "  text_preds = [(p if p.endswith((\"!\", \"!\", \"?\", \"?\", \"।\")) else p + \"।\") for p in text_preds]\n",
        "  text_labels = [(l if l.endswith((\"!\", \"!\", \"?\", \"?\", \"।\")) else l + \"।\") for l in text_labels]\n",
        "  sent_tokenizer_bn = RegexpTokenizer(u'[^!!??।]*[!!??।]')\n",
        "  text_preds = [\"\\n\".join(np.char.strip(sent_tokenizer_bn.tokenize(p))) for p in text_preds]\n",
        "  text_labels = [\"\\n\".join(np.char.strip(sent_tokenizer_bn.tokenize(l))) for l in text_labels]\n",
        "\n",
        "  # Computation of ROUGE score with custom tokenization\n",
        "  return rouge_metric.compute(\n",
        "    predictions=text_preds,\n",
        "    references=text_labels,\n",
        "    tokenizer=tokenize_sentence\n",
        "  )"
      ]
    },
    {
      "cell_type": "markdown",
      "metadata": {
        "id": "Bbi6TJ6rjZG6"
      },
      "source": [
        "# **ROUGE scores of the mT5 pretrained model**"
      ]
    },
    {
      "cell_type": "code",
      "execution_count": null,
      "metadata": {
        "id": "yWx3KJhjCLFk"
      },
      "outputs": [],
      "source": [
        "from torch.utils.data import DataLoader\n",
        "\n",
        "sample_dataloader = DataLoader(\n",
        "\n",
        "  tokenized_datasets[\"test\"].with_format(\"torch\"),\n",
        "\n",
        "  collate_fn = data_collator,\n",
        "  batch_size = 10)\n",
        "\n",
        "for batch in sample_dataloader:\n",
        "  with torch.no_grad():\n",
        "    preds = model.generate(\n",
        "        batch[\"input_ids\"].to(device),\n",
        "        generation_config=GenerationConfig(max_new_tokens=128, num_beams=15, do_sample=True,\n",
        "                                           length_penalty=1.0, temperature=1.5, output_attentions=True),\n",
        "        num_return_sequences=1,\n",
        "        no_repeat_ngram_size=1,\n",
        "        remove_invalid_values=True,\n",
        "        #max_length=128,\n",
        "        #typical_p=1.0,\n",
        "        #top_k=50,\n",
        "        #top_p=1.0,\n",
        "    )\n",
        "\n",
        "  labels = batch[\"labels\"]\n",
        "  break\n",
        "\n",
        "metrics_func([preds, labels])"
      ]
    },
    {
      "cell_type": "markdown",
      "metadata": {
        "id": "gw6KURItIr7S"
      },
      "source": [
        "# **Load fully fine-tuned instruction model**\n"
      ]
    },
    {
      "cell_type": "code",
      "execution_count": null,
      "metadata": {
        "id": "kzpj1GdnIvKO"
      },
      "outputs": [],
      "source": [
        "import os\n",
        "from transformers import AutoConfig\n",
        "\n",
        "load_dir = '/content/drive/MyDrive/Colab Notebooks/Instruction_model/instruction_trained_model'\n",
        "device = torch.device(\"cuda\" if torch.cuda.is_available() else \"cpu\")\n",
        "\n",
        "mt5_config = AutoConfig.from_pretrained(\n",
        "  load_dir,\n",
        "  output_attentions = True,\n",
        "  chunk_size_feed_forward = 3,\n",
        "  max_length=128,\n",
        "  length_penalty=1.0,\n",
        "  no_repeat_ngram_size=2,\n",
        "  num_beams=10,\n",
        "  finetuning_task = \"Bangla Text Summarization\"\n",
        ")\n",
        "\n",
        "#Instruction Model\n",
        "instruct_model = (AutoModelForSeq2SeqLM.from_pretrained(load_dir, config=mt5_config).to(device))\n",
        "#Training log\n",
        "df = pd.read_csv(os.path.join(load_dir, 'training_log.csv'))\n"
      ]
    },
    {
      "cell_type": "markdown",
      "metadata": {
        "id": "E-D_fEGWA2CS"
      },
      "source": [
        "# Datacollator for the instruction model."
      ]
    },
    {
      "cell_type": "code",
      "execution_count": null,
      "metadata": {
        "id": "8Rv5AAwxAaPu"
      },
      "outputs": [],
      "source": [
        "from transformers import DataCollatorForSeq2Seq\n",
        "\n",
        "data_collator1 = DataCollatorForSeq2Seq(\n",
        "    t5_tokenizer,\n",
        "    model=instruct_model,\n",
        "    #padding = True,\n",
        "    max_length = 128,\n",
        "    label_pad_token_id = -100,\n",
        "    return_tensors=\"pt\")"
      ]
    },
    {
      "cell_type": "markdown",
      "metadata": {
        "id": "grFlMpmMsDbl"
      },
      "source": [
        "# Fine-Tune the Model with the Preprocessed Dataset\n",
        "\n",
        "- Here we prepare HuggingFace training arguments."
      ]
    },
    {
      "cell_type": "code",
      "execution_count": null,
      "metadata": {
        "id": "ZR72qZsKC57n"
      },
      "outputs": [],
      "source": [
        "from transformers import Seq2SeqTrainingArguments\n",
        "\n",
        "epochs = 1\n",
        "training_args = Seq2SeqTrainingArguments(\n",
        "  output_dir = \"bangla-text-summarizer\",\n",
        "  log_level = \"error\",\n",
        "  num_train_epochs = epochs,\n",
        "  learning_rate = 4e-4,\n",
        "  warmup_steps = 70,\n",
        "  optim = \"adafactor\",\n",
        "  weight_decay = 0.01,\n",
        "  per_device_train_batch_size = 8, # 2, 16\n",
        "  per_device_eval_batch_size = 8, # 1, 8\n",
        "  gradient_accumulation_steps = 1,\n",
        "  auto_find_batch_size = True,\n",
        "  eval_delay =0,\n",
        "  max_grad_norm = 1,\n",
        "  lr_scheduler_type = \"linear\",\n",
        "  #use_cpu = False,\n",
        "  #seed = 42,\n",
        "  evaluation_strategy = \"steps\",\n",
        "  eval_steps = 100,\n",
        "  predict_with_generate=True,\n",
        "  generation_max_length = 128,\n",
        "  save_strategy = \"steps\",\n",
        "  save_steps = 500,\n",
        "  save_total_limit = 3,\n",
        "  load_best_model_at_end = True,\n",
        "  logging_steps = 100, # 500, 10\n",
        "  logging_nan_inf_filter = True,\n",
        "  remove_unused_columns = True,\n",
        "  push_to_hub = False\n",
        ")"
      ]
    },
    {
      "cell_type": "markdown",
      "metadata": {
        "id": "5rPX6AFfxn6-"
      },
      "source": [
        "# **Trainer Class**"
      ]
    },
    {
      "cell_type": "code",
      "execution_count": null,
      "metadata": {
        "id": "TJzTXIA1C6Bv"
      },
      "outputs": [],
      "source": [
        "from transformers import Seq2SeqTrainer\n",
        "\n",
        "trainer = Seq2SeqTrainer(\n",
        "\n",
        "  model = instruct_model,\n",
        "  args = training_args,\n",
        "  data_collator = data_collator1,\n",
        "  compute_metrics = metrics_func,\n",
        "\n",
        "  train_dataset = tokenized_datasets['train'],\n",
        "  eval_dataset = tokenized_datasets['validation'].select(range(30)),\n",
        "  tokenizer = t5_tokenizer,\n",
        ")\n",
        "\n",
        "trainer.train()\n"
      ]
    },
    {
      "cell_type": "markdown",
      "metadata": {
        "id": "Wp0lNKSTIllx"
      },
      "source": [
        "## **Save the trained model**"
      ]
    },
    {
      "cell_type": "code",
      "execution_count": null,
      "metadata": {
        "id": "eNVhIJguqCsl"
      },
      "outputs": [],
      "source": [
        "import os\n",
        "# import pandas as pd\n",
        "\n",
        "save_dir = '/content/drive/MyDrive/Colab Notebooks/Instruction_model/instruction_trained_model'\n",
        "os.makedirs(save_dir, exist_ok=True)\n",
        "\n",
        "# save training log\n",
        "log_df = pd.DataFrame(trainer.state.log_history)\n",
        "log_df.to_csv(os.path.join(save_dir, 'training_log.csv'))\n",
        "\n",
        "# save fine-tuned model, this is for 1st training: trainer.model\n",
        "if hasattr(trainer.model, \"module\"):\n",
        "  trainer.model.module.save_pretrained(save_dir)\n",
        "else:\n",
        "  trainer.model.save_pretrained(save_dir)\n"
      ]
    },
    {
      "cell_type": "markdown",
      "metadata": {
        "id": "5smmR9yvkzFF"
      },
      "source": [
        "Performance Analysis:"
      ]
    },
    {
      "cell_type": "code",
      "execution_count": null,
      "metadata": {
        "id": "JXukCwAakoTm"
      },
      "outputs": [],
      "source": [
        "df_eval = df[[\n",
        "    'epoch',\n",
        "    'step',\n",
        "    'eval_loss',\n",
        "    'eval_rouge1',\n",
        "    'eval_rouge2',\n",
        "    'eval_rougeL',\n",
        "    'eval_rougeLsum',\n",
        "    ]].dropna()\n",
        "df_eval"
      ]
    },
    {
      "cell_type": "markdown",
      "metadata": {
        "id": "Nv_VtMkWkdWN"
      },
      "source": [
        "# ROUGE score for the trained mT5 model:"
      ]
    },
    {
      "cell_type": "code",
      "execution_count": null,
      "metadata": {
        "id": "eb2rlJeFkUph"
      },
      "outputs": [],
      "source": [
        "from torch.utils.data import DataLoader\n",
        "\n",
        "sample_dataloader = DataLoader(\n",
        "\n",
        "  tokenized_datasets[\"test\"].with_format(\"torch\"),\n",
        "  collate_fn = data_collator1,\n",
        "  batch_size = 10)\n",
        "\n",
        "for batch in sample_dataloader:\n",
        "  with torch.no_grad():\n",
        "\n",
        "    preds = instruct_model.generate(\n",
        "        batch[\"input_ids\"].to(device),\n",
        "        remove_invalid_values=True,\n",
        "        generation_config=GenerationConfig(max_new_tokens=128, num_beams=15, do_sample=True, top_k=50, top_p=1.0,\n",
        "                                           typical_p=1.0, temperature=1.5, use_cache=True, output_attentions=True),\n",
        "        #typical_p=1.0,\n",
        "        #top_k=50,\n",
        "        #top_p=1.0,\n",
        "        #max_length = 128,\n",
        "        length_penalty=1.0,\n",
        "        no_repeat_ngram_size=2,\n",
        "        num_return_sequences=1,\n",
        "    )\n",
        "\n",
        "  labels = batch[\"labels\"]\n",
        "  break\n",
        "\n",
        "metrics_func([preds, labels])\n"
      ]
    },
    {
      "cell_type": "markdown",
      "metadata": {
        "id": "ZQT_eomdsjSJ"
      },
      "source": [
        "Plots"
      ]
    },
    {
      "cell_type": "code",
      "execution_count": null,
      "metadata": {
        "id": "8k-15feHkxFB"
      },
      "outputs": [],
      "source": [
        "from  matplotlib import pyplot as plt"
      ]
    },
    {
      "cell_type": "code",
      "execution_count": null,
      "metadata": {
        "id": "mbvewRyxs3DR"
      },
      "outputs": [],
      "source": [
        "df_loss = df['loss']\n",
        "df_loss = df_loss.dropna()\n",
        "df_loss"
      ]
    },
    {
      "cell_type": "code",
      "execution_count": null,
      "metadata": {
        "id": "vSTQz3o1tMgC"
      },
      "outputs": [],
      "source": [
        "df_step = df['step']\n",
        "df_step = df_step[~df_step.duplicated(keep='first')]\n",
        "df_step"
      ]
    },
    {
      "cell_type": "code",
      "execution_count": null,
      "metadata": {
        "id": "WgGOi2f5tgOQ"
      },
      "outputs": [],
      "source": [
        "fig, ax = plt.subplots(figsize=(6, 4))\n",
        "\n",
        "df_loss = df['loss']\n",
        "df_loss = df_loss.dropna()\n",
        "\n",
        "df_step = df['step']\n",
        "df_step = df_step[~df_step.duplicated(keep='first')]\n",
        "\n",
        "plt.plot(df_step, df_loss)\n",
        "plt.legend(['Training Loss'], loc='upper right', fontsize='14')\n",
        "plt.xlabel('Steps', fontsize='14')\n",
        "plt.ylabel('Loss', fontsize='14')\n",
        "plt.show()\n",
        "\n",
        "fig = ax.get_figure()\n",
        "fig.savefig(os.path.join(load_dir, 'training_loss.png'), bbox_inches='tight')"
      ]
    },
    {
      "cell_type": "code",
      "execution_count": null,
      "metadata": {
        "id": "2x1qj5zht4ic"
      },
      "outputs": [],
      "source": [
        "fig, ax = plt.subplots(figsize=(6, 4))\n",
        "\n",
        "plt.plot(df_eval['step'], df_eval['eval_loss'], color='green')\n",
        "plt.legend(['Validation Loss'], loc='upper right', fontsize='14')\n",
        "plt.xlabel('Steps', fontsize='14')\n",
        "plt.ylabel('Loss', fontsize='14')\n",
        "plt.show()\n",
        "\n",
        "fig = ax.get_figure()\n",
        "fig.savefig(os.path.join(load_dir, 'validation_loss.png'), bbox_inches='tight')"
      ]
    },
    {
      "cell_type": "markdown",
      "metadata": {
        "id": "I0zpGik2udX3"
      },
      "source": [
        "Total Training Time"
      ]
    },
    {
      "cell_type": "code",
      "execution_count": null,
      "metadata": {
        "id": "V4m4J9tluYEI"
      },
      "outputs": [],
      "source": [
        "df_backup = df\n",
        "\n",
        "# Training time\n",
        "last_row = df_backup.iloc[-1]\n",
        "column_value = last_row['train_runtime']\n",
        "\n",
        "# Convert seconds to hours, minutes, and seconds\n",
        "hours = int(column_value // 3600)\n",
        "seconds_remaining = column_value % 3600\n",
        "minutes = int(seconds_remaining // 60)\n",
        "seconds = int(seconds_remaining % 60)\n",
        "\n",
        "print(f\"Training Time: {hours}:{minutes}:{seconds}\")"
      ]
    },
    {
      "cell_type": "code",
      "execution_count": null,
      "metadata": {
        "id": "DywxwfbnuZsA"
      },
      "outputs": [],
      "source": [
        "df_backup = df\n",
        "\n",
        "# Total training time\n",
        "last_row = df_backup.iloc[-1]\n",
        "total_runtime = last_row['train_runtime']\n",
        "\n",
        "# Convert total runtime to hours, minutes, and seconds\n",
        "total_hours = int(total_runtime // 3600)\n",
        "total_seconds_remaining = total_runtime % 3600\n",
        "total_minutes = int(total_seconds_remaining // 60)\n",
        "total_seconds = int(total_seconds_remaining % 60)\n",
        "\n",
        "# Format and print total training time\n",
        "total_training_time = f\"Total Training Time: {total_hours}:{total_minutes:02d}:{total_seconds:02d}\"\n",
        "print(total_training_time)\n",
        "\n",
        "num_epochs = 10\n",
        "\n",
        "# Calculate individual runtime per epoch\n",
        "epoch_runtime = total_runtime / num_epochs\n",
        "\n",
        "# Convert epoch runtime to hours, minutes, and seconds\n",
        "epoch_hours = int(epoch_runtime // 3600)\n",
        "epoch_seconds_remaining = epoch_runtime % 3600\n",
        "epoch_minutes = int(epoch_seconds_remaining // 60)\n",
        "epoch_seconds = int(epoch_seconds_remaining % 60)\n",
        "\n",
        "# Format and print individual runtime per epoch\n",
        "epoch_time = f\"Individual Runtime per Epoch: {epoch_hours}:{epoch_minutes:02d}:{epoch_seconds:02d}\"\n",
        "print(epoch_time)"
      ]
    },
    {
      "cell_type": "markdown",
      "metadata": {
        "id": "YIbrcZ_ZqKjz"
      },
      "source": [
        "# **Evaluation of the Model Qualitatively (Human Evaluation)**"
      ]
    },
    {
      "cell_type": "code",
      "execution_count": null,
      "metadata": {
        "id": "QQpRSOWeqiQq"
      },
      "outputs": [],
      "source": [
        "from torch.utils.data import DataLoader\n",
        "\n",
        "# Prediction with test data (first 5 rows)\n",
        "sample_dataloader = DataLoader(\n",
        "  tokenized_datasets[\"test\"].with_format(\"torch\"),\n",
        "  collate_fn = data_collator1,\n",
        "  batch_size=10)\n",
        "\n",
        "for batch in sample_dataloader:\n",
        "  with torch.no_grad():\n",
        "    preds = instruct_model.generate(\n",
        "        batch[\"input_ids\"].to(device),\n",
        "        remove_invalid_values=True,\n",
        "        generation_config=GenerationConfig(max_new_tokens=128, num_beams=15, do_sample=True, top_k=50, top_p=1.0, typical_p=1.0, temperature=1, use_cache=True, output_attentions=True),\n",
        "        #typical_p=1.0,\n",
        "        #top_k=50,\n",
        "        #top_p=1.0,\n",
        "        #max_length = 128,\n",
        "        length_penalty=1.0,\n",
        "        no_repeat_ngram_size=2,\n",
        "        num_return_sequences=1,\n",
        "    )\n",
        "\n",
        "  labels = batch[\"labels\"]\n",
        "  break\n",
        "\n",
        "metrics_func([preds, labels])\n",
        "\n",
        "\n",
        "# Replace -100 (see above)\n",
        "labels = np.where(labels != -100, labels, t5_tokenizer.pad_token_id)\n",
        "\n",
        "# Convert id tokens to text\n",
        "text_preds = t5_tokenizer.batch_decode(preds, skip_special_tokens=True)\n",
        "text_labels = t5_tokenizer.batch_decode(labels, skip_special_tokens=True)\n",
        "\n",
        "print(\"Input Text-Bangla Text Corpus: \")\n",
        "print(ds[\"test\"][\"text\"][2])\n",
        "\n",
        "print(\"Baseline Human Summary: \")\n",
        "print(text_labels[2])\n",
        "\n",
        "print(\"Instruct Model Generated Summary: \")\n",
        "print(text_preds[2])\n"
      ]
    },
    {
      "cell_type": "markdown",
      "metadata": {
        "id": "9OF5XyM2EAac"
      },
      "source": [
        "# Evaluate the New Instruction Fine Tuned Model (Human Evaluation:)"
      ]
    },
    {
      "cell_type": "code",
      "execution_count": null,
      "metadata": {
        "id": "yuyaO23QD96c"
      },
      "outputs": [],
      "source": [
        "index = 125\n",
        "text_corpus1 = ds['test'] [index] ['text']\n",
        "human_baseline_summary = ds['test'] [index] ['summary']\n",
        "\n",
        "prompt = f\"\"\"\n",
        "summarize the following text.\n",
        "{text_corpus1}\n",
        "\n",
        "Summary:\n",
        "\"\"\"\n",
        "#return_tensors=\"pt\", this will b after prompt with a comma\n",
        "input_ids = t5_tokenizer(prompt, return_tensors=\"pt\").input_ids\n",
        "\n",
        "#original_model_outputs = model.generate(input_ids = input_ids, generation_config=GenerationConfig(max_new_tokens=128, do_sample=True, temperature=1, num_beams=10))\n",
        "#original_model_text_output = t5_tokenizer.decode(original_model_outputs[0], skip_special_tokens=True)\n",
        "\n",
        "instruct_model_outputs = instruct_model.generate(\n",
        "    input_ids=input_ids.to(device),\n",
        "    remove_invalid_values=True,\n",
        "    generation_config=GenerationConfig(max_new_tokens=128, num_beams=15, do_sample=True, top_k=50,\n",
        "                                       top_p=1.0, typical_p=1.0, temperature=1.5, use_cache=True, output_attentions=True),\n",
        "    #typical_p=1.0,\n",
        "    #top_k=50,\n",
        "    #top_p=1.0,\n",
        "    #max_length = 128,\n",
        "    length_penalty=1.0,\n",
        "    no_repeat_ngram_size=2,\n",
        "    num_return_sequences=1,\n",
        ")\n",
        "instruct_model_text_output = t5_tokenizer.decode(instruct_model_outputs[0], skip_special_tokens=True)\n",
        "\n",
        "print(\"Input Text Corpus: \")\n",
        "print(ds[\"test\"][index][\"text\"])\n",
        "#print(dash_line)\n",
        "print(f'Baseline Human Summary:\\n {human_baseline_summary}')\n",
        "#print(dash_line)\n",
        "#print(f'Original Model summary:\\n{original_model_text_output}')\n",
        "#print(dash_line)\n",
        "print(f'Instruct Model Generated Summary:\\n {instruct_model_text_output}')\n"
      ]
    },
    {
      "cell_type": "markdown",
      "metadata": {
        "id": "nUHnJzjA3bEB"
      },
      "source": [
        "# Evaluate the Model Quantitatively (with ROUGE Metric)\n",
        "\n",
        "The ROUGE metric helps quantify the validity of summarizations produced by models. It compares summaries to a 'Baseline' summary which is usually created by a human."
      ]
    },
    {
      "cell_type": "code",
      "execution_count": null,
      "metadata": {
        "id": "YC-BSAKNdH7U"
      },
      "outputs": [],
      "source": [
        "text_corpus2 = ds['test'] [10:15] ['text']\n",
        "human_baseline_Summaries = ds['test'] [10:15] ['summary']\n",
        "\n",
        "original_model_summaries = []\n",
        "instruction_model_summaries = []\n",
        "\n",
        "for _, text in enumerate(text_corpus2):\n",
        "  prompt = f\"\"\"\n",
        "summarize the following text.\n",
        "{text}\n",
        "\n",
        "summary: \"\"\"\n",
        "  input_ids = t5_tokenizer(prompt, return_tensors=\"pt\").input_ids\n",
        "\n",
        "  original_model_outputs = model.generate(input_ids=input_ids, generation_config=GenerationConfig(max_new_tokens=128, do_sample=True, temperature=1, num_beams=5))\n",
        "  original_model_text_output = t5_tokenizer.decode(original_model_outputs[0], skip_special_tokens=True)\n",
        "  original_model_summaries.append(original_model_text_output)\n",
        "\n",
        "  instruction_model_outputs = instruct_model.generate(input_ids=input_ids, generation_config=GenerationConfig(max_new_tokens=128, do_sample=True, temperature=1, num_beams=5))\n",
        "  instruction_model_text_output = t5_tokenizer.decode(instruction_model_outputs[0], skip_special_tokens=True)\n",
        "  instruction_model_summaries.append(instruction_model_text_output)\n",
        "\n",
        "zipped_summaries = list(zip(human_baseline_Summaries, original_model_summaries, instruction_model_summaries))\n",
        "\n",
        "df = pd.DataFrame(zipped_summaries, columns = ['human_baseline_Summaries', 'original_model_summaries', 'instruction_model_summaries'])\n",
        "df\n"
      ]
    },
    {
      "cell_type": "markdown",
      "metadata": {
        "id": "boW2t6noQn1l"
      },
      "source": [
        "# Evaluate the models computing ROUGE metrics. Notice the improvement in the results!"
      ]
    },
    {
      "cell_type": "code",
      "execution_count": null,
      "metadata": {
        "id": "en4tsy68dIK2"
      },
      "outputs": [],
      "source": [
        "rouge_metric = evaluate.load(\"rouge\")\n",
        "print(len(original_model_summaries))\n",
        "print(human_baseline_Summaries)\n",
        "print(instruction_model_summaries)\n",
        "\n",
        "original_model_summaries = [(p if p.endswith((\"!\", \"!\", \"?\", \"?\", \"।\")) else p + \"।\") for p in original_model_summaries]\n",
        "human_baseline_Summaries = [(l if l.endswith((\"!\", \"!\", \"?\", \"?\", \"।\")) else l + \"।\") for l in human_baseline_Summaries]\n",
        "sent_tokenizer_bn = RegexpTokenizer(u'[^!!??।]*[!!??।]')\n",
        "original_model_summaries = [\"\\n\".join(np.char.strip(sent_tokenizer_bn.tokenize(p))) for p in original_model_summaries]\n",
        "human_baseline_Summaries = [\"\\n\".join(np.char.strip(sent_tokenizer_bn.tokenize(l))) for l in human_baseline_Summaries]\n",
        "\n",
        "original_model_results = rouge_metric.compute(\n",
        "    predictions = original_model_summaries,\n",
        "    references = human_baseline_Summaries,\n",
        "    use_aggregator = True,\n",
        "    use_stemmer = True,\n",
        ")\n",
        "\n",
        "instruction_model_results = rouge_metric.compute(\n",
        "    predictions = instruction_model_summaries,\n",
        "    references = instruction_model_summaries,\n",
        "    use_aggregator = True,\n",
        "    use_stemmer = True,\n",
        ")\n",
        "\n",
        "print('Original Model ROUGE Scores:')\n",
        "print(original_model_results)\n",
        "print('Instruct Model ROUGE Scores:')\n",
        "print(instruction_model_results)\n"
      ]
    },
    {
      "cell_type": "code",
      "execution_count": null,
      "metadata": {
        "id": "HeUQl-LCRmqu"
      },
      "outputs": [],
      "source": [
        "rouge = evaluate.load('rouge')\n",
        "predictions = [\"গত বেশ কিছুদিন\", \"বাংলাদেশে স্বাস্থ্য অধিদপ্তরের তথ্যে দেখা গেছে, গত সপ্তাহে যেখানে নমুনা পরীক্ষার বিচারে কোভিড-১৯ রোগী শনাক্তের হার ছিল ২৩ শতাংশ, কয়েকদিনের ব্যবধানে সেটি এখন ১৩ শতাংশে নেমে এসেছে।\"]\n",
        "references = [\"গত বেশ কিছুদিন বলছে\", \"general kenobi\"]\n",
        "results = rouge.compute(predictions=predictions,\n",
        "                        references=references,\n",
        "                        use_aggregator=False)\n",
        "print(list(results.keys()))\n",
        "print(results[\"rouge1\"])"
      ]
    },
    {
      "cell_type": "code",
      "execution_count": null,
      "metadata": {
        "id": "NM6zg33Ffn9I"
      },
      "outputs": [],
      "source": [
        "print(\"Absulute percentae improvement of Instruct model over Human Baseline\")\n",
        "\n",
        "improvement = (np.array(list(instruction_model_results.values())) - np.array(list(original_model_results.values())))\n",
        "for key, value in zip(instruction_model_results.keys(), improvement):\n",
        "  print(f'{key}: {value*100:.2f}%')\n",
        "\n"
      ]
    },
    {
      "cell_type": "code",
      "execution_count": null,
      "metadata": {
        "id": "RQytIEptg1mh"
      },
      "outputs": [],
      "source": [
        "!pip install lida==0.0.4\n",
        "!pip install gradio"
      ]
    },
    {
      "cell_type": "code",
      "execution_count": null,
      "metadata": {
        "id": "YOJXyA3f9EDk"
      },
      "outputs": [],
      "source": [
        "import gradio as gr\n",
        "from torch.utils.data import DataLoader\n",
        "import torch\n",
        "def summary(text):\n",
        "\n",
        "    input_feature = t5_tokenizer(text, truncation=True, max_length=1024)\n",
        "    # print(\"a: \", input_feature)\n",
        "    input_feature[\"input_ids\"] = torch.tensor(input_feature[\"input_ids\"])\n",
        "    # print(input_feature[\"input_ids\"])\n",
        "    input_feature['input_ids'] = input_feature['input_ids'].unsqueeze(0)\n",
        "    # print(input_feature[\"input_ids\"])\n",
        "\n",
        "    with torch.no_grad():\n",
        "        preds = instruct_model.generate(\n",
        "            input_feature[\"input_ids\"].to(device),\n",
        "            remove_invalid_values=True,\n",
        "            generation_config=GenerationConfig(max_new_tokens=128, num_beams=15, do_sample=True, top_k=50,\n",
        "                                               top_p=1.0,temperature=1, use_cache=True, output_attentions=True),\n",
        "            #typical_p=1.0,\n",
        "            #top_k=50,\n",
        "            #top_p=1.0,\n",
        "            #max_length = 128,\n",
        "            length_penalty=1.0,\n",
        "            no_repeat_ngram_size=2,\n",
        "            num_return_sequences=1,\n",
        "        )\n",
        "\n",
        "    text_preds = t5_tokenizer.batch_decode(preds, skip_special_tokens=True)\n",
        "    return text_preds[0]\n"
      ]
    },
    {
      "cell_type": "code",
      "execution_count": null,
      "metadata": {
        "id": "kTX-m6ViLHb-"
      },
      "outputs": [],
      "source": [
        "interface = gr.Interface(\n",
        "    fn = summary,\n",
        "    inputs =gr.Textbox(lines=10, placeholder=\"Enter Your Text Here ...\"),\n",
        "    outputs =gr.Textbox(lines=10, placeholder=\"\"),\n",
        "    # outputs=\"text\",\n",
        "    title='Bangla Text Summarization',\n",
        "\n",
        "    description = \"Flag if you find any erroneous output\",\n",
        "    flagging_options = ['Excellent summary', 'Nice summary', 'Unclear summary', 'Need to improve a litte'],\n",
        "    theme = 'darkpeach'\n",
        ")"
      ]
    },
    {
      "cell_type": "code",
      "execution_count": null,
      "metadata": {
        "id": "LlI0CVNW9Sdy"
      },
      "outputs": [],
      "source": [
        "interface.launch(auth=(\"Jahid\", \"Mjahid642\")) #debug = True"
      ]
    },
    {
      "cell_type": "code",
      "execution_count": null,
      "metadata": {
        "id": "jAGBFaX-xTyZ"
      },
      "outputs": [],
      "source": [
        "\"\"\"import shutil\n",
        "\n",
        "path = '/content/drive/MyDrive/Colab Notebooks/NLP/models'\n",
        "source_file = path\n",
        "destination_file = path\n",
        "\n",
        "shutil.make_archive(destination_file, 'zip', source_file)\n",
        "\"\"\""
      ]
    },
    {
      "cell_type": "code",
      "execution_count": null,
      "metadata": {
        "id": "_XNRX_pxy-Us"
      },
      "outputs": [],
      "source": [
        "ds['test'][350]"
      ]
    },
    {
      "cell_type": "code",
      "execution_count": null,
      "metadata": {
        "id": "w38bRckpzl5I"
      },
      "outputs": [],
      "source": []
    }
  ],
  "metadata": {
    "accelerator": "GPU",
    "colab": {
      "gpuType": "T4",
      "provenance": [],
      "include_colab_link": true
    },
    "kernelspec": {
      "display_name": "Python 3",
      "name": "python3"
    },
    "language_info": {
      "name": "python"
    },
    "widgets": {
      "application/vnd.jupyter.widget-state+json": {
        "0423294bc5e34dcdbef02f001a0656af": {
          "model_module": "@jupyter-widgets/controls",
          "model_module_version": "1.5.0",
          "model_name": "HTMLModel",
          "state": {
            "_dom_classes": [],
            "_model_module": "@jupyter-widgets/controls",
            "_model_module_version": "1.5.0",
            "_model_name": "HTMLModel",
            "_view_count": null,
            "_view_module": "@jupyter-widgets/controls",
            "_view_module_version": "1.5.0",
            "_view_name": "HTMLView",
            "description": "",
            "description_tooltip": null,
            "layout": "IPY_MODEL_69a6514717fa46b5bd7831704b69d50c",
            "placeholder": "​",
            "style": "IPY_MODEL_77e153f9c7a643208fea87614bad134f",
            "value": "generation_config.json: 100%"
          }
        },
        "06c1a66ac92d4bf78ee98d103de714c1": {
          "model_module": "@jupyter-widgets/base",
          "model_module_version": "1.2.0",
          "model_name": "LayoutModel",
          "state": {
            "_model_module": "@jupyter-widgets/base",
            "_model_module_version": "1.2.0",
            "_model_name": "LayoutModel",
            "_view_count": null,
            "_view_module": "@jupyter-widgets/base",
            "_view_module_version": "1.2.0",
            "_view_name": "LayoutView",
            "align_content": null,
            "align_items": null,
            "align_self": null,
            "border": null,
            "bottom": null,
            "display": null,
            "flex": null,
            "flex_flow": null,
            "grid_area": null,
            "grid_auto_columns": null,
            "grid_auto_flow": null,
            "grid_auto_rows": null,
            "grid_column": null,
            "grid_gap": null,
            "grid_row": null,
            "grid_template_areas": null,
            "grid_template_columns": null,
            "grid_template_rows": null,
            "height": null,
            "justify_content": null,
            "justify_items": null,
            "left": null,
            "margin": null,
            "max_height": null,
            "max_width": null,
            "min_height": null,
            "min_width": null,
            "object_fit": null,
            "object_position": null,
            "order": null,
            "overflow": null,
            "overflow_x": null,
            "overflow_y": null,
            "padding": null,
            "right": null,
            "top": null,
            "visibility": null,
            "width": null
          }
        },
        "0a8d163e1e6b4c6bb3c3a5aadc2fcc49": {
          "model_module": "@jupyter-widgets/controls",
          "model_module_version": "1.5.0",
          "model_name": "FloatProgressModel",
          "state": {
            "_dom_classes": [],
            "_model_module": "@jupyter-widgets/controls",
            "_model_module_version": "1.5.0",
            "_model_name": "FloatProgressModel",
            "_view_count": null,
            "_view_module": "@jupyter-widgets/controls",
            "_view_module_version": "1.5.0",
            "_view_name": "ProgressView",
            "bar_style": "success",
            "description": "",
            "description_tooltip": null,
            "layout": "IPY_MODEL_ba77cbbebcb4430d9c7ae3a253734bcb",
            "max": 1200794589,
            "min": 0,
            "orientation": "horizontal",
            "style": "IPY_MODEL_64099d8a6c294f079c3e6a437826a676",
            "value": 1200794589
          }
        },
        "0dd59dfc46b34bd1afcd09678a0566cf": {
          "model_module": "@jupyter-widgets/controls",
          "model_module_version": "1.5.0",
          "model_name": "DescriptionStyleModel",
          "state": {
            "_model_module": "@jupyter-widgets/controls",
            "_model_module_version": "1.5.0",
            "_model_name": "DescriptionStyleModel",
            "_view_count": null,
            "_view_module": "@jupyter-widgets/base",
            "_view_module_version": "1.2.0",
            "_view_name": "StyleView",
            "description_width": ""
          }
        },
        "0f894ad285ec4c0b802d8c84685cfc8a": {
          "model_module": "@jupyter-widgets/controls",
          "model_module_version": "1.5.0",
          "model_name": "ProgressStyleModel",
          "state": {
            "_model_module": "@jupyter-widgets/controls",
            "_model_module_version": "1.5.0",
            "_model_name": "ProgressStyleModel",
            "_view_count": null,
            "_view_module": "@jupyter-widgets/base",
            "_view_module_version": "1.2.0",
            "_view_name": "StyleView",
            "bar_color": null,
            "description_width": ""
          }
        },
        "104009e015fc45088b8d280fce0119a6": {
          "model_module": "@jupyter-widgets/controls",
          "model_module_version": "1.5.0",
          "model_name": "DescriptionStyleModel",
          "state": {
            "_model_module": "@jupyter-widgets/controls",
            "_model_module_version": "1.5.0",
            "_model_name": "DescriptionStyleModel",
            "_view_count": null,
            "_view_module": "@jupyter-widgets/base",
            "_view_module_version": "1.2.0",
            "_view_name": "StyleView",
            "description_width": ""
          }
        },
        "1705ce702bc34cf5afbc90576bfb956b": {
          "model_module": "@jupyter-widgets/base",
          "model_module_version": "1.2.0",
          "model_name": "LayoutModel",
          "state": {
            "_model_module": "@jupyter-widgets/base",
            "_model_module_version": "1.2.0",
            "_model_name": "LayoutModel",
            "_view_count": null,
            "_view_module": "@jupyter-widgets/base",
            "_view_module_version": "1.2.0",
            "_view_name": "LayoutView",
            "align_content": null,
            "align_items": null,
            "align_self": null,
            "border": null,
            "bottom": null,
            "display": null,
            "flex": null,
            "flex_flow": null,
            "grid_area": null,
            "grid_auto_columns": null,
            "grid_auto_flow": null,
            "grid_auto_rows": null,
            "grid_column": null,
            "grid_gap": null,
            "grid_row": null,
            "grid_template_areas": null,
            "grid_template_columns": null,
            "grid_template_rows": null,
            "height": null,
            "justify_content": null,
            "justify_items": null,
            "left": null,
            "margin": null,
            "max_height": null,
            "max_width": null,
            "min_height": null,
            "min_width": null,
            "object_fit": null,
            "object_position": null,
            "order": null,
            "overflow": null,
            "overflow_x": null,
            "overflow_y": null,
            "padding": null,
            "right": null,
            "top": null,
            "visibility": null,
            "width": null
          }
        },
        "1b80f87ba82744c4aba0e7729a8bf4a4": {
          "model_module": "@jupyter-widgets/base",
          "model_module_version": "1.2.0",
          "model_name": "LayoutModel",
          "state": {
            "_model_module": "@jupyter-widgets/base",
            "_model_module_version": "1.2.0",
            "_model_name": "LayoutModel",
            "_view_count": null,
            "_view_module": "@jupyter-widgets/base",
            "_view_module_version": "1.2.0",
            "_view_name": "LayoutView",
            "align_content": null,
            "align_items": null,
            "align_self": null,
            "border": null,
            "bottom": null,
            "display": null,
            "flex": null,
            "flex_flow": null,
            "grid_area": null,
            "grid_auto_columns": null,
            "grid_auto_flow": null,
            "grid_auto_rows": null,
            "grid_column": null,
            "grid_gap": null,
            "grid_row": null,
            "grid_template_areas": null,
            "grid_template_columns": null,
            "grid_template_rows": null,
            "height": null,
            "justify_content": null,
            "justify_items": null,
            "left": null,
            "margin": null,
            "max_height": null,
            "max_width": null,
            "min_height": null,
            "min_width": null,
            "object_fit": null,
            "object_position": null,
            "order": null,
            "overflow": null,
            "overflow_x": null,
            "overflow_y": null,
            "padding": null,
            "right": null,
            "top": null,
            "visibility": null,
            "width": null
          }
        },
        "24441051ca0e43bba93c2720164bca5c": {
          "model_module": "@jupyter-widgets/controls",
          "model_module_version": "1.5.0",
          "model_name": "HTMLModel",
          "state": {
            "_dom_classes": [],
            "_model_module": "@jupyter-widgets/controls",
            "_model_module_version": "1.5.0",
            "_model_name": "HTMLModel",
            "_view_count": null,
            "_view_module": "@jupyter-widgets/controls",
            "_view_module_version": "1.5.0",
            "_view_name": "HTMLView",
            "description": "",
            "description_tooltip": null,
            "layout": "IPY_MODEL_4e3a8b50e70d4262a4459ff0b5a80844",
            "placeholder": "​",
            "style": "IPY_MODEL_7fd809c85f4d4caf99e2c286f23a79f8",
            "value": "spiece.model: 100%"
          }
        },
        "246446b9607441bd81828b2df24bbfe1": {
          "model_module": "@jupyter-widgets/controls",
          "model_module_version": "1.5.0",
          "model_name": "HTMLModel",
          "state": {
            "_dom_classes": [],
            "_model_module": "@jupyter-widgets/controls",
            "_model_module_version": "1.5.0",
            "_model_name": "HTMLModel",
            "_view_count": null,
            "_view_module": "@jupyter-widgets/controls",
            "_view_module_version": "1.5.0",
            "_view_name": "HTMLView",
            "description": "",
            "description_tooltip": null,
            "layout": "IPY_MODEL_947cf2de52db47e29d83b1fddf49246a",
            "placeholder": "​",
            "style": "IPY_MODEL_4fce8829eda1434fb75445e51944692b",
            "value": " 4.31M/4.31M [00:01&lt;00:00, 2.92MB/s]"
          }
        },
        "2cf366660b7d4ee8a2e0e34a67b8c828": {
          "model_module": "@jupyter-widgets/base",
          "model_module_version": "1.2.0",
          "model_name": "LayoutModel",
          "state": {
            "_model_module": "@jupyter-widgets/base",
            "_model_module_version": "1.2.0",
            "_model_name": "LayoutModel",
            "_view_count": null,
            "_view_module": "@jupyter-widgets/base",
            "_view_module_version": "1.2.0",
            "_view_name": "LayoutView",
            "align_content": null,
            "align_items": null,
            "align_self": null,
            "border": null,
            "bottom": null,
            "display": null,
            "flex": null,
            "flex_flow": null,
            "grid_area": null,
            "grid_auto_columns": null,
            "grid_auto_flow": null,
            "grid_auto_rows": null,
            "grid_column": null,
            "grid_gap": null,
            "grid_row": null,
            "grid_template_areas": null,
            "grid_template_columns": null,
            "grid_template_rows": null,
            "height": null,
            "justify_content": null,
            "justify_items": null,
            "left": null,
            "margin": null,
            "max_height": null,
            "max_width": null,
            "min_height": null,
            "min_width": null,
            "object_fit": null,
            "object_position": null,
            "order": null,
            "overflow": null,
            "overflow_x": null,
            "overflow_y": null,
            "padding": null,
            "right": null,
            "top": null,
            "visibility": null,
            "width": null
          }
        },
        "30dd14edafac4de2bf50e6baa7732225": {
          "model_module": "@jupyter-widgets/controls",
          "model_module_version": "1.5.0",
          "model_name": "ProgressStyleModel",
          "state": {
            "_model_module": "@jupyter-widgets/controls",
            "_model_module_version": "1.5.0",
            "_model_name": "ProgressStyleModel",
            "_view_count": null,
            "_view_module": "@jupyter-widgets/base",
            "_view_module_version": "1.2.0",
            "_view_name": "StyleView",
            "bar_color": null,
            "description_width": ""
          }
        },
        "32f9c23a885d4d378c5056e707e61db0": {
          "model_module": "@jupyter-widgets/controls",
          "model_module_version": "1.5.0",
          "model_name": "HTMLModel",
          "state": {
            "_dom_classes": [],
            "_model_module": "@jupyter-widgets/controls",
            "_model_module_version": "1.5.0",
            "_model_name": "HTMLModel",
            "_view_count": null,
            "_view_module": "@jupyter-widgets/controls",
            "_view_module_version": "1.5.0",
            "_view_name": "HTMLView",
            "description": "",
            "description_tooltip": null,
            "layout": "IPY_MODEL_403841a6222f40eda7fc76ff82ab3b44",
            "placeholder": "​",
            "style": "IPY_MODEL_b3649ae66cdf4ceea5aa6d00975e39b7",
            "value": "special_tokens_map.json: 100%"
          }
        },
        "3498b92c216e40d590797016aa7a0164": {
          "model_module": "@jupyter-widgets/controls",
          "model_module_version": "1.5.0",
          "model_name": "HTMLModel",
          "state": {
            "_dom_classes": [],
            "_model_module": "@jupyter-widgets/controls",
            "_model_module_version": "1.5.0",
            "_model_name": "HTMLModel",
            "_view_count": null,
            "_view_module": "@jupyter-widgets/controls",
            "_view_module_version": "1.5.0",
            "_view_name": "HTMLView",
            "description": "",
            "description_tooltip": null,
            "layout": "IPY_MODEL_9ee911c9fdfe400c90176b2f758d660a",
            "placeholder": "​",
            "style": "IPY_MODEL_104009e015fc45088b8d280fce0119a6",
            "value": " 1.20G/1.20G [00:07&lt;00:00, 93.0MB/s]"
          }
        },
        "360358d65b814887a52ba09e10a2446b": {
          "model_module": "@jupyter-widgets/base",
          "model_module_version": "1.2.0",
          "model_name": "LayoutModel",
          "state": {
            "_model_module": "@jupyter-widgets/base",
            "_model_module_version": "1.2.0",
            "_model_name": "LayoutModel",
            "_view_count": null,
            "_view_module": "@jupyter-widgets/base",
            "_view_module_version": "1.2.0",
            "_view_name": "LayoutView",
            "align_content": null,
            "align_items": null,
            "align_self": null,
            "border": null,
            "bottom": null,
            "display": null,
            "flex": null,
            "flex_flow": null,
            "grid_area": null,
            "grid_auto_columns": null,
            "grid_auto_flow": null,
            "grid_auto_rows": null,
            "grid_column": null,
            "grid_gap": null,
            "grid_row": null,
            "grid_template_areas": null,
            "grid_template_columns": null,
            "grid_template_rows": null,
            "height": null,
            "justify_content": null,
            "justify_items": null,
            "left": null,
            "margin": null,
            "max_height": null,
            "max_width": null,
            "min_height": null,
            "min_width": null,
            "object_fit": null,
            "object_position": null,
            "order": null,
            "overflow": null,
            "overflow_x": null,
            "overflow_y": null,
            "padding": null,
            "right": null,
            "top": null,
            "visibility": null,
            "width": null
          }
        },
        "3706d85ac9e342fd9ff10ae3ef98f01f": {
          "model_module": "@jupyter-widgets/base",
          "model_module_version": "1.2.0",
          "model_name": "LayoutModel",
          "state": {
            "_model_module": "@jupyter-widgets/base",
            "_model_module_version": "1.2.0",
            "_model_name": "LayoutModel",
            "_view_count": null,
            "_view_module": "@jupyter-widgets/base",
            "_view_module_version": "1.2.0",
            "_view_name": "LayoutView",
            "align_content": null,
            "align_items": null,
            "align_self": null,
            "border": null,
            "bottom": null,
            "display": null,
            "flex": null,
            "flex_flow": null,
            "grid_area": null,
            "grid_auto_columns": null,
            "grid_auto_flow": null,
            "grid_auto_rows": null,
            "grid_column": null,
            "grid_gap": null,
            "grid_row": null,
            "grid_template_areas": null,
            "grid_template_columns": null,
            "grid_template_rows": null,
            "height": null,
            "justify_content": null,
            "justify_items": null,
            "left": null,
            "margin": null,
            "max_height": null,
            "max_width": null,
            "min_height": null,
            "min_width": null,
            "object_fit": null,
            "object_position": null,
            "order": null,
            "overflow": null,
            "overflow_x": null,
            "overflow_y": null,
            "padding": null,
            "right": null,
            "top": null,
            "visibility": null,
            "width": null
          }
        },
        "38486e7250b44015843598ee891746d2": {
          "model_module": "@jupyter-widgets/controls",
          "model_module_version": "1.5.0",
          "model_name": "HBoxModel",
          "state": {
            "_dom_classes": [],
            "_model_module": "@jupyter-widgets/controls",
            "_model_module_version": "1.5.0",
            "_model_name": "HBoxModel",
            "_view_count": null,
            "_view_module": "@jupyter-widgets/controls",
            "_view_module_version": "1.5.0",
            "_view_name": "HBoxView",
            "box_style": "",
            "children": [
              "IPY_MODEL_cd6afd1183914afeb168ffabe86c4f81",
              "IPY_MODEL_0a8d163e1e6b4c6bb3c3a5aadc2fcc49",
              "IPY_MODEL_3498b92c216e40d590797016aa7a0164"
            ],
            "layout": "IPY_MODEL_506b0eca0b5b429391ca848b534998b6"
          }
        },
        "3bb327e08b174c4eb27c169d37ad930a": {
          "model_module": "@jupyter-widgets/controls",
          "model_module_version": "1.5.0",
          "model_name": "DescriptionStyleModel",
          "state": {
            "_model_module": "@jupyter-widgets/controls",
            "_model_module_version": "1.5.0",
            "_model_name": "DescriptionStyleModel",
            "_view_count": null,
            "_view_module": "@jupyter-widgets/base",
            "_view_module_version": "1.2.0",
            "_view_name": "StyleView",
            "description_width": ""
          }
        },
        "403841a6222f40eda7fc76ff82ab3b44": {
          "model_module": "@jupyter-widgets/base",
          "model_module_version": "1.2.0",
          "model_name": "LayoutModel",
          "state": {
            "_model_module": "@jupyter-widgets/base",
            "_model_module_version": "1.2.0",
            "_model_name": "LayoutModel",
            "_view_count": null,
            "_view_module": "@jupyter-widgets/base",
            "_view_module_version": "1.2.0",
            "_view_name": "LayoutView",
            "align_content": null,
            "align_items": null,
            "align_self": null,
            "border": null,
            "bottom": null,
            "display": null,
            "flex": null,
            "flex_flow": null,
            "grid_area": null,
            "grid_auto_columns": null,
            "grid_auto_flow": null,
            "grid_auto_rows": null,
            "grid_column": null,
            "grid_gap": null,
            "grid_row": null,
            "grid_template_areas": null,
            "grid_template_columns": null,
            "grid_template_rows": null,
            "height": null,
            "justify_content": null,
            "justify_items": null,
            "left": null,
            "margin": null,
            "max_height": null,
            "max_width": null,
            "min_height": null,
            "min_width": null,
            "object_fit": null,
            "object_position": null,
            "order": null,
            "overflow": null,
            "overflow_x": null,
            "overflow_y": null,
            "padding": null,
            "right": null,
            "top": null,
            "visibility": null,
            "width": null
          }
        },
        "4cc934f0cab048f5aff3713d69705874": {
          "model_module": "@jupyter-widgets/controls",
          "model_module_version": "1.5.0",
          "model_name": "HTMLModel",
          "state": {
            "_dom_classes": [],
            "_model_module": "@jupyter-widgets/controls",
            "_model_module_version": "1.5.0",
            "_model_name": "HTMLModel",
            "_view_count": null,
            "_view_module": "@jupyter-widgets/controls",
            "_view_module_version": "1.5.0",
            "_view_name": "HTMLView",
            "description": "",
            "description_tooltip": null,
            "layout": "IPY_MODEL_91eda9603a2546209a7783fe55706bfa",
            "placeholder": "​",
            "style": "IPY_MODEL_9d52e827b83c4134af1d2b0c52311dc4",
            "value": "tokenizer_config.json: 100%"
          }
        },
        "4e3a8b50e70d4262a4459ff0b5a80844": {
          "model_module": "@jupyter-widgets/base",
          "model_module_version": "1.2.0",
          "model_name": "LayoutModel",
          "state": {
            "_model_module": "@jupyter-widgets/base",
            "_model_module_version": "1.2.0",
            "_model_name": "LayoutModel",
            "_view_count": null,
            "_view_module": "@jupyter-widgets/base",
            "_view_module_version": "1.2.0",
            "_view_name": "LayoutView",
            "align_content": null,
            "align_items": null,
            "align_self": null,
            "border": null,
            "bottom": null,
            "display": null,
            "flex": null,
            "flex_flow": null,
            "grid_area": null,
            "grid_auto_columns": null,
            "grid_auto_flow": null,
            "grid_auto_rows": null,
            "grid_column": null,
            "grid_gap": null,
            "grid_row": null,
            "grid_template_areas": null,
            "grid_template_columns": null,
            "grid_template_rows": null,
            "height": null,
            "justify_content": null,
            "justify_items": null,
            "left": null,
            "margin": null,
            "max_height": null,
            "max_width": null,
            "min_height": null,
            "min_width": null,
            "object_fit": null,
            "object_position": null,
            "order": null,
            "overflow": null,
            "overflow_x": null,
            "overflow_y": null,
            "padding": null,
            "right": null,
            "top": null,
            "visibility": null,
            "width": null
          }
        },
        "4fce8829eda1434fb75445e51944692b": {
          "model_module": "@jupyter-widgets/controls",
          "model_module_version": "1.5.0",
          "model_name": "DescriptionStyleModel",
          "state": {
            "_model_module": "@jupyter-widgets/controls",
            "_model_module_version": "1.5.0",
            "_model_name": "DescriptionStyleModel",
            "_view_count": null,
            "_view_module": "@jupyter-widgets/base",
            "_view_module_version": "1.2.0",
            "_view_name": "StyleView",
            "description_width": ""
          }
        },
        "506b0eca0b5b429391ca848b534998b6": {
          "model_module": "@jupyter-widgets/base",
          "model_module_version": "1.2.0",
          "model_name": "LayoutModel",
          "state": {
            "_model_module": "@jupyter-widgets/base",
            "_model_module_version": "1.2.0",
            "_model_name": "LayoutModel",
            "_view_count": null,
            "_view_module": "@jupyter-widgets/base",
            "_view_module_version": "1.2.0",
            "_view_name": "LayoutView",
            "align_content": null,
            "align_items": null,
            "align_self": null,
            "border": null,
            "bottom": null,
            "display": null,
            "flex": null,
            "flex_flow": null,
            "grid_area": null,
            "grid_auto_columns": null,
            "grid_auto_flow": null,
            "grid_auto_rows": null,
            "grid_column": null,
            "grid_gap": null,
            "grid_row": null,
            "grid_template_areas": null,
            "grid_template_columns": null,
            "grid_template_rows": null,
            "height": null,
            "justify_content": null,
            "justify_items": null,
            "left": null,
            "margin": null,
            "max_height": null,
            "max_width": null,
            "min_height": null,
            "min_width": null,
            "object_fit": null,
            "object_position": null,
            "order": null,
            "overflow": null,
            "overflow_x": null,
            "overflow_y": null,
            "padding": null,
            "right": null,
            "top": null,
            "visibility": null,
            "width": null
          }
        },
        "5193afa73e954d4eaf3c2c3739cae020": {
          "model_module": "@jupyter-widgets/controls",
          "model_module_version": "1.5.0",
          "model_name": "ProgressStyleModel",
          "state": {
            "_model_module": "@jupyter-widgets/controls",
            "_model_module_version": "1.5.0",
            "_model_name": "ProgressStyleModel",
            "_view_count": null,
            "_view_module": "@jupyter-widgets/base",
            "_view_module_version": "1.2.0",
            "_view_name": "StyleView",
            "bar_color": null,
            "description_width": ""
          }
        },
        "52d9a284d1df47889de6622d057876a9": {
          "model_module": "@jupyter-widgets/controls",
          "model_module_version": "1.5.0",
          "model_name": "FloatProgressModel",
          "state": {
            "_dom_classes": [],
            "_model_module": "@jupyter-widgets/controls",
            "_model_module_version": "1.5.0",
            "_model_name": "FloatProgressModel",
            "_view_count": null,
            "_view_module": "@jupyter-widgets/controls",
            "_view_module_version": "1.5.0",
            "_view_name": "ProgressView",
            "bar_style": "success",
            "description": "",
            "description_tooltip": null,
            "layout": "IPY_MODEL_d6881fb9af0441448e940e5abce7f08e",
            "max": 4309802,
            "min": 0,
            "orientation": "horizontal",
            "style": "IPY_MODEL_0f894ad285ec4c0b802d8c84685cfc8a",
            "value": 4309802
          }
        },
        "5abc26a08cd443429f39f3192735d1be": {
          "model_module": "@jupyter-widgets/controls",
          "model_module_version": "1.5.0",
          "model_name": "HBoxModel",
          "state": {
            "_dom_classes": [],
            "_model_module": "@jupyter-widgets/controls",
            "_model_module_version": "1.5.0",
            "_model_name": "HBoxModel",
            "_view_count": null,
            "_view_module": "@jupyter-widgets/controls",
            "_view_module_version": "1.5.0",
            "_view_name": "HBoxView",
            "box_style": "",
            "children": [
              "IPY_MODEL_f36d9530d13b4dba84e47b32d5cc9dfb",
              "IPY_MODEL_c95a1e658e8c451c975a1c2ab0771745",
              "IPY_MODEL_8c84086b28c84d1194888065ba3e7910"
            ],
            "layout": "IPY_MODEL_2cf366660b7d4ee8a2e0e34a67b8c828"
          }
        },
        "629b366d04dc4a95bdf66971a0852135": {
          "model_module": "@jupyter-widgets/controls",
          "model_module_version": "1.5.0",
          "model_name": "DescriptionStyleModel",
          "state": {
            "_model_module": "@jupyter-widgets/controls",
            "_model_module_version": "1.5.0",
            "_model_name": "DescriptionStyleModel",
            "_view_count": null,
            "_view_module": "@jupyter-widgets/base",
            "_view_module_version": "1.2.0",
            "_view_name": "StyleView",
            "description_width": ""
          }
        },
        "64099d8a6c294f079c3e6a437826a676": {
          "model_module": "@jupyter-widgets/controls",
          "model_module_version": "1.5.0",
          "model_name": "ProgressStyleModel",
          "state": {
            "_model_module": "@jupyter-widgets/controls",
            "_model_module_version": "1.5.0",
            "_model_name": "ProgressStyleModel",
            "_view_count": null,
            "_view_module": "@jupyter-widgets/base",
            "_view_module_version": "1.2.0",
            "_view_name": "StyleView",
            "bar_color": null,
            "description_width": ""
          }
        },
        "64eb3bbdd2e544768e2e94d3a660ca1a": {
          "model_module": "@jupyter-widgets/base",
          "model_module_version": "1.2.0",
          "model_name": "LayoutModel",
          "state": {
            "_model_module": "@jupyter-widgets/base",
            "_model_module_version": "1.2.0",
            "_model_name": "LayoutModel",
            "_view_count": null,
            "_view_module": "@jupyter-widgets/base",
            "_view_module_version": "1.2.0",
            "_view_name": "LayoutView",
            "align_content": null,
            "align_items": null,
            "align_self": null,
            "border": null,
            "bottom": null,
            "display": null,
            "flex": null,
            "flex_flow": null,
            "grid_area": null,
            "grid_auto_columns": null,
            "grid_auto_flow": null,
            "grid_auto_rows": null,
            "grid_column": null,
            "grid_gap": null,
            "grid_row": null,
            "grid_template_areas": null,
            "grid_template_columns": null,
            "grid_template_rows": null,
            "height": null,
            "justify_content": null,
            "justify_items": null,
            "left": null,
            "margin": null,
            "max_height": null,
            "max_width": null,
            "min_height": null,
            "min_width": null,
            "object_fit": null,
            "object_position": null,
            "order": null,
            "overflow": null,
            "overflow_x": null,
            "overflow_y": null,
            "padding": null,
            "right": null,
            "top": null,
            "visibility": null,
            "width": null
          }
        },
        "69a6514717fa46b5bd7831704b69d50c": {
          "model_module": "@jupyter-widgets/base",
          "model_module_version": "1.2.0",
          "model_name": "LayoutModel",
          "state": {
            "_model_module": "@jupyter-widgets/base",
            "_model_module_version": "1.2.0",
            "_model_name": "LayoutModel",
            "_view_count": null,
            "_view_module": "@jupyter-widgets/base",
            "_view_module_version": "1.2.0",
            "_view_name": "LayoutView",
            "align_content": null,
            "align_items": null,
            "align_self": null,
            "border": null,
            "bottom": null,
            "display": null,
            "flex": null,
            "flex_flow": null,
            "grid_area": null,
            "grid_auto_columns": null,
            "grid_auto_flow": null,
            "grid_auto_rows": null,
            "grid_column": null,
            "grid_gap": null,
            "grid_row": null,
            "grid_template_areas": null,
            "grid_template_columns": null,
            "grid_template_rows": null,
            "height": null,
            "justify_content": null,
            "justify_items": null,
            "left": null,
            "margin": null,
            "max_height": null,
            "max_width": null,
            "min_height": null,
            "min_width": null,
            "object_fit": null,
            "object_position": null,
            "order": null,
            "overflow": null,
            "overflow_x": null,
            "overflow_y": null,
            "padding": null,
            "right": null,
            "top": null,
            "visibility": null,
            "width": null
          }
        },
        "6fd9bfbf86384f5ca2d725523129a76e": {
          "model_module": "@jupyter-widgets/base",
          "model_module_version": "1.2.0",
          "model_name": "LayoutModel",
          "state": {
            "_model_module": "@jupyter-widgets/base",
            "_model_module_version": "1.2.0",
            "_model_name": "LayoutModel",
            "_view_count": null,
            "_view_module": "@jupyter-widgets/base",
            "_view_module_version": "1.2.0",
            "_view_name": "LayoutView",
            "align_content": null,
            "align_items": null,
            "align_self": null,
            "border": null,
            "bottom": null,
            "display": null,
            "flex": null,
            "flex_flow": null,
            "grid_area": null,
            "grid_auto_columns": null,
            "grid_auto_flow": null,
            "grid_auto_rows": null,
            "grid_column": null,
            "grid_gap": null,
            "grid_row": null,
            "grid_template_areas": null,
            "grid_template_columns": null,
            "grid_template_rows": null,
            "height": null,
            "justify_content": null,
            "justify_items": null,
            "left": null,
            "margin": null,
            "max_height": null,
            "max_width": null,
            "min_height": null,
            "min_width": null,
            "object_fit": null,
            "object_position": null,
            "order": null,
            "overflow": null,
            "overflow_x": null,
            "overflow_y": null,
            "padding": null,
            "right": null,
            "top": null,
            "visibility": null,
            "width": null
          }
        },
        "77e153f9c7a643208fea87614bad134f": {
          "model_module": "@jupyter-widgets/controls",
          "model_module_version": "1.5.0",
          "model_name": "DescriptionStyleModel",
          "state": {
            "_model_module": "@jupyter-widgets/controls",
            "_model_module_version": "1.5.0",
            "_model_name": "DescriptionStyleModel",
            "_view_count": null,
            "_view_module": "@jupyter-widgets/base",
            "_view_module_version": "1.2.0",
            "_view_name": "StyleView",
            "description_width": ""
          }
        },
        "7fd809c85f4d4caf99e2c286f23a79f8": {
          "model_module": "@jupyter-widgets/controls",
          "model_module_version": "1.5.0",
          "model_name": "DescriptionStyleModel",
          "state": {
            "_model_module": "@jupyter-widgets/controls",
            "_model_module_version": "1.5.0",
            "_model_name": "DescriptionStyleModel",
            "_view_count": null,
            "_view_module": "@jupyter-widgets/base",
            "_view_module_version": "1.2.0",
            "_view_name": "StyleView",
            "description_width": ""
          }
        },
        "80fcf6c975c0440eaa625ba9967901e0": {
          "model_module": "@jupyter-widgets/controls",
          "model_module_version": "1.5.0",
          "model_name": "DescriptionStyleModel",
          "state": {
            "_model_module": "@jupyter-widgets/controls",
            "_model_module_version": "1.5.0",
            "_model_name": "DescriptionStyleModel",
            "_view_count": null,
            "_view_module": "@jupyter-widgets/base",
            "_view_module_version": "1.2.0",
            "_view_name": "StyleView",
            "description_width": ""
          }
        },
        "863bc1507b264b99896e52ace26e444e": {
          "model_module": "@jupyter-widgets/controls",
          "model_module_version": "1.5.0",
          "model_name": "HBoxModel",
          "state": {
            "_dom_classes": [],
            "_model_module": "@jupyter-widgets/controls",
            "_model_module_version": "1.5.0",
            "_model_name": "HBoxModel",
            "_view_count": null,
            "_view_module": "@jupyter-widgets/controls",
            "_view_module_version": "1.5.0",
            "_view_name": "HBoxView",
            "box_style": "",
            "children": [
              "IPY_MODEL_32f9c23a885d4d378c5056e707e61db0",
              "IPY_MODEL_967892e5953d4a9e875f0905310c1088",
              "IPY_MODEL_acfa44d876914ba2b10334d8618dd338"
            ],
            "layout": "IPY_MODEL_b6813198f9294e798b47ecdfe3e8e050"
          }
        },
        "8a3196d617844d8c8bc7e8ceb4075c2a": {
          "model_module": "@jupyter-widgets/base",
          "model_module_version": "1.2.0",
          "model_name": "LayoutModel",
          "state": {
            "_model_module": "@jupyter-widgets/base",
            "_model_module_version": "1.2.0",
            "_model_name": "LayoutModel",
            "_view_count": null,
            "_view_module": "@jupyter-widgets/base",
            "_view_module_version": "1.2.0",
            "_view_name": "LayoutView",
            "align_content": null,
            "align_items": null,
            "align_self": null,
            "border": null,
            "bottom": null,
            "display": null,
            "flex": null,
            "flex_flow": null,
            "grid_area": null,
            "grid_auto_columns": null,
            "grid_auto_flow": null,
            "grid_auto_rows": null,
            "grid_column": null,
            "grid_gap": null,
            "grid_row": null,
            "grid_template_areas": null,
            "grid_template_columns": null,
            "grid_template_rows": null,
            "height": null,
            "justify_content": null,
            "justify_items": null,
            "left": null,
            "margin": null,
            "max_height": null,
            "max_width": null,
            "min_height": null,
            "min_width": null,
            "object_fit": null,
            "object_position": null,
            "order": null,
            "overflow": null,
            "overflow_x": null,
            "overflow_y": null,
            "padding": null,
            "right": null,
            "top": null,
            "visibility": null,
            "width": null
          }
        },
        "8c84086b28c84d1194888065ba3e7910": {
          "model_module": "@jupyter-widgets/controls",
          "model_module_version": "1.5.0",
          "model_name": "HTMLModel",
          "state": {
            "_dom_classes": [],
            "_model_module": "@jupyter-widgets/controls",
            "_model_module_version": "1.5.0",
            "_model_name": "HTMLModel",
            "_view_count": null,
            "_view_module": "@jupyter-widgets/controls",
            "_view_module_version": "1.5.0",
            "_view_name": "HTMLView",
            "description": "",
            "description_tooltip": null,
            "layout": "IPY_MODEL_1b80f87ba82744c4aba0e7729a8bf4a4",
            "placeholder": "​",
            "style": "IPY_MODEL_3bb327e08b174c4eb27c169d37ad930a",
            "value": " 553/553 [00:00&lt;00:00, 15.2kB/s]"
          }
        },
        "8c974d52c0a2478895a2fa0515237f03": {
          "model_module": "@jupyter-widgets/controls",
          "model_module_version": "1.5.0",
          "model_name": "DescriptionStyleModel",
          "state": {
            "_model_module": "@jupyter-widgets/controls",
            "_model_module_version": "1.5.0",
            "_model_name": "DescriptionStyleModel",
            "_view_count": null,
            "_view_module": "@jupyter-widgets/base",
            "_view_module_version": "1.2.0",
            "_view_name": "StyleView",
            "description_width": ""
          }
        },
        "8cd64b2fec514d4fa37402329a19e8a8": {
          "model_module": "@jupyter-widgets/base",
          "model_module_version": "1.2.0",
          "model_name": "LayoutModel",
          "state": {
            "_model_module": "@jupyter-widgets/base",
            "_model_module_version": "1.2.0",
            "_model_name": "LayoutModel",
            "_view_count": null,
            "_view_module": "@jupyter-widgets/base",
            "_view_module_version": "1.2.0",
            "_view_name": "LayoutView",
            "align_content": null,
            "align_items": null,
            "align_self": null,
            "border": null,
            "bottom": null,
            "display": null,
            "flex": null,
            "flex_flow": null,
            "grid_area": null,
            "grid_auto_columns": null,
            "grid_auto_flow": null,
            "grid_auto_rows": null,
            "grid_column": null,
            "grid_gap": null,
            "grid_row": null,
            "grid_template_areas": null,
            "grid_template_columns": null,
            "grid_template_rows": null,
            "height": null,
            "justify_content": null,
            "justify_items": null,
            "left": null,
            "margin": null,
            "max_height": null,
            "max_width": null,
            "min_height": null,
            "min_width": null,
            "object_fit": null,
            "object_position": null,
            "order": null,
            "overflow": null,
            "overflow_x": null,
            "overflow_y": null,
            "padding": null,
            "right": null,
            "top": null,
            "visibility": null,
            "width": null
          }
        },
        "8cfbbab33fee45faa992edf7d5782eeb": {
          "model_module": "@jupyter-widgets/base",
          "model_module_version": "1.2.0",
          "model_name": "LayoutModel",
          "state": {
            "_model_module": "@jupyter-widgets/base",
            "_model_module_version": "1.2.0",
            "_model_name": "LayoutModel",
            "_view_count": null,
            "_view_module": "@jupyter-widgets/base",
            "_view_module_version": "1.2.0",
            "_view_name": "LayoutView",
            "align_content": null,
            "align_items": null,
            "align_self": null,
            "border": null,
            "bottom": null,
            "display": null,
            "flex": null,
            "flex_flow": null,
            "grid_area": null,
            "grid_auto_columns": null,
            "grid_auto_flow": null,
            "grid_auto_rows": null,
            "grid_column": null,
            "grid_gap": null,
            "grid_row": null,
            "grid_template_areas": null,
            "grid_template_columns": null,
            "grid_template_rows": null,
            "height": null,
            "justify_content": null,
            "justify_items": null,
            "left": null,
            "margin": null,
            "max_height": null,
            "max_width": null,
            "min_height": null,
            "min_width": null,
            "object_fit": null,
            "object_position": null,
            "order": null,
            "overflow": null,
            "overflow_x": null,
            "overflow_y": null,
            "padding": null,
            "right": null,
            "top": null,
            "visibility": null,
            "width": null
          }
        },
        "91eda9603a2546209a7783fe55706bfa": {
          "model_module": "@jupyter-widgets/base",
          "model_module_version": "1.2.0",
          "model_name": "LayoutModel",
          "state": {
            "_model_module": "@jupyter-widgets/base",
            "_model_module_version": "1.2.0",
            "_model_name": "LayoutModel",
            "_view_count": null,
            "_view_module": "@jupyter-widgets/base",
            "_view_module_version": "1.2.0",
            "_view_name": "LayoutView",
            "align_content": null,
            "align_items": null,
            "align_self": null,
            "border": null,
            "bottom": null,
            "display": null,
            "flex": null,
            "flex_flow": null,
            "grid_area": null,
            "grid_auto_columns": null,
            "grid_auto_flow": null,
            "grid_auto_rows": null,
            "grid_column": null,
            "grid_gap": null,
            "grid_row": null,
            "grid_template_areas": null,
            "grid_template_columns": null,
            "grid_template_rows": null,
            "height": null,
            "justify_content": null,
            "justify_items": null,
            "left": null,
            "margin": null,
            "max_height": null,
            "max_width": null,
            "min_height": null,
            "min_width": null,
            "object_fit": null,
            "object_position": null,
            "order": null,
            "overflow": null,
            "overflow_x": null,
            "overflow_y": null,
            "padding": null,
            "right": null,
            "top": null,
            "visibility": null,
            "width": null
          }
        },
        "947cf2de52db47e29d83b1fddf49246a": {
          "model_module": "@jupyter-widgets/base",
          "model_module_version": "1.2.0",
          "model_name": "LayoutModel",
          "state": {
            "_model_module": "@jupyter-widgets/base",
            "_model_module_version": "1.2.0",
            "_model_name": "LayoutModel",
            "_view_count": null,
            "_view_module": "@jupyter-widgets/base",
            "_view_module_version": "1.2.0",
            "_view_name": "LayoutView",
            "align_content": null,
            "align_items": null,
            "align_self": null,
            "border": null,
            "bottom": null,
            "display": null,
            "flex": null,
            "flex_flow": null,
            "grid_area": null,
            "grid_auto_columns": null,
            "grid_auto_flow": null,
            "grid_auto_rows": null,
            "grid_column": null,
            "grid_gap": null,
            "grid_row": null,
            "grid_template_areas": null,
            "grid_template_columns": null,
            "grid_template_rows": null,
            "height": null,
            "justify_content": null,
            "justify_items": null,
            "left": null,
            "margin": null,
            "max_height": null,
            "max_width": null,
            "min_height": null,
            "min_width": null,
            "object_fit": null,
            "object_position": null,
            "order": null,
            "overflow": null,
            "overflow_x": null,
            "overflow_y": null,
            "padding": null,
            "right": null,
            "top": null,
            "visibility": null,
            "width": null
          }
        },
        "951f03cbc44046089cded5b6abcfc9c0": {
          "model_module": "@jupyter-widgets/controls",
          "model_module_version": "1.5.0",
          "model_name": "HTMLModel",
          "state": {
            "_dom_classes": [],
            "_model_module": "@jupyter-widgets/controls",
            "_model_module_version": "1.5.0",
            "_model_name": "HTMLModel",
            "_view_count": null,
            "_view_module": "@jupyter-widgets/controls",
            "_view_module_version": "1.5.0",
            "_view_name": "HTMLView",
            "description": "",
            "description_tooltip": null,
            "layout": "IPY_MODEL_360358d65b814887a52ba09e10a2446b",
            "placeholder": "​",
            "style": "IPY_MODEL_629b366d04dc4a95bdf66971a0852135",
            "value": " 147/147 [00:00&lt;00:00, 5.92kB/s]"
          }
        },
        "967892e5953d4a9e875f0905310c1088": {
          "model_module": "@jupyter-widgets/controls",
          "model_module_version": "1.5.0",
          "model_name": "FloatProgressModel",
          "state": {
            "_dom_classes": [],
            "_model_module": "@jupyter-widgets/controls",
            "_model_module_version": "1.5.0",
            "_model_name": "FloatProgressModel",
            "_view_count": null,
            "_view_module": "@jupyter-widgets/controls",
            "_view_module_version": "1.5.0",
            "_view_name": "ProgressView",
            "bar_style": "success",
            "description": "",
            "description_tooltip": null,
            "layout": "IPY_MODEL_d230a204f56d4636a049418eb428d03f",
            "max": 99,
            "min": 0,
            "orientation": "horizontal",
            "style": "IPY_MODEL_30dd14edafac4de2bf50e6baa7732225",
            "value": 99
          }
        },
        "9d52e827b83c4134af1d2b0c52311dc4": {
          "model_module": "@jupyter-widgets/controls",
          "model_module_version": "1.5.0",
          "model_name": "DescriptionStyleModel",
          "state": {
            "_model_module": "@jupyter-widgets/controls",
            "_model_module_version": "1.5.0",
            "_model_name": "DescriptionStyleModel",
            "_view_count": null,
            "_view_module": "@jupyter-widgets/base",
            "_view_module_version": "1.2.0",
            "_view_name": "StyleView",
            "description_width": ""
          }
        },
        "9ed88e9cf38a44e3a5e9b4c3571715d0": {
          "model_module": "@jupyter-widgets/base",
          "model_module_version": "1.2.0",
          "model_name": "LayoutModel",
          "state": {
            "_model_module": "@jupyter-widgets/base",
            "_model_module_version": "1.2.0",
            "_model_name": "LayoutModel",
            "_view_count": null,
            "_view_module": "@jupyter-widgets/base",
            "_view_module_version": "1.2.0",
            "_view_name": "LayoutView",
            "align_content": null,
            "align_items": null,
            "align_self": null,
            "border": null,
            "bottom": null,
            "display": null,
            "flex": null,
            "flex_flow": null,
            "grid_area": null,
            "grid_auto_columns": null,
            "grid_auto_flow": null,
            "grid_auto_rows": null,
            "grid_column": null,
            "grid_gap": null,
            "grid_row": null,
            "grid_template_areas": null,
            "grid_template_columns": null,
            "grid_template_rows": null,
            "height": null,
            "justify_content": null,
            "justify_items": null,
            "left": null,
            "margin": null,
            "max_height": null,
            "max_width": null,
            "min_height": null,
            "min_width": null,
            "object_fit": null,
            "object_position": null,
            "order": null,
            "overflow": null,
            "overflow_x": null,
            "overflow_y": null,
            "padding": null,
            "right": null,
            "top": null,
            "visibility": null,
            "width": null
          }
        },
        "9ee911c9fdfe400c90176b2f758d660a": {
          "model_module": "@jupyter-widgets/base",
          "model_module_version": "1.2.0",
          "model_name": "LayoutModel",
          "state": {
            "_model_module": "@jupyter-widgets/base",
            "_model_module_version": "1.2.0",
            "_model_name": "LayoutModel",
            "_view_count": null,
            "_view_module": "@jupyter-widgets/base",
            "_view_module_version": "1.2.0",
            "_view_name": "LayoutView",
            "align_content": null,
            "align_items": null,
            "align_self": null,
            "border": null,
            "bottom": null,
            "display": null,
            "flex": null,
            "flex_flow": null,
            "grid_area": null,
            "grid_auto_columns": null,
            "grid_auto_flow": null,
            "grid_auto_rows": null,
            "grid_column": null,
            "grid_gap": null,
            "grid_row": null,
            "grid_template_areas": null,
            "grid_template_columns": null,
            "grid_template_rows": null,
            "height": null,
            "justify_content": null,
            "justify_items": null,
            "left": null,
            "margin": null,
            "max_height": null,
            "max_width": null,
            "min_height": null,
            "min_width": null,
            "object_fit": null,
            "object_position": null,
            "order": null,
            "overflow": null,
            "overflow_x": null,
            "overflow_y": null,
            "padding": null,
            "right": null,
            "top": null,
            "visibility": null,
            "width": null
          }
        },
        "a755bc8b40904b528198bf1f4f9cccd0": {
          "model_module": "@jupyter-widgets/controls",
          "model_module_version": "1.5.0",
          "model_name": "HBoxModel",
          "state": {
            "_dom_classes": [],
            "_model_module": "@jupyter-widgets/controls",
            "_model_module_version": "1.5.0",
            "_model_name": "HBoxModel",
            "_view_count": null,
            "_view_module": "@jupyter-widgets/controls",
            "_view_module_version": "1.5.0",
            "_view_name": "HBoxView",
            "box_style": "",
            "children": [
              "IPY_MODEL_24441051ca0e43bba93c2720164bca5c",
              "IPY_MODEL_52d9a284d1df47889de6622d057876a9",
              "IPY_MODEL_246446b9607441bd81828b2df24bbfe1"
            ],
            "layout": "IPY_MODEL_8cd64b2fec514d4fa37402329a19e8a8"
          }
        },
        "a8390cfb6a204410832d8d8517a37ff9": {
          "model_module": "@jupyter-widgets/controls",
          "model_module_version": "1.5.0",
          "model_name": "HTMLModel",
          "state": {
            "_dom_classes": [],
            "_model_module": "@jupyter-widgets/controls",
            "_model_module_version": "1.5.0",
            "_model_name": "HTMLModel",
            "_view_count": null,
            "_view_module": "@jupyter-widgets/controls",
            "_view_module_version": "1.5.0",
            "_view_name": "HTMLView",
            "description": "",
            "description_tooltip": null,
            "layout": "IPY_MODEL_9ed88e9cf38a44e3a5e9b4c3571715d0",
            "placeholder": "​",
            "style": "IPY_MODEL_80fcf6c975c0440eaa625ba9967901e0",
            "value": " 82.0/82.0 [00:00&lt;00:00, 1.04kB/s]"
          }
        },
        "a8e39d68f8c148cdbee06d29101716ce": {
          "model_module": "@jupyter-widgets/controls",
          "model_module_version": "1.5.0",
          "model_name": "HBoxModel",
          "state": {
            "_dom_classes": [],
            "_model_module": "@jupyter-widgets/controls",
            "_model_module_version": "1.5.0",
            "_model_name": "HBoxModel",
            "_view_count": null,
            "_view_module": "@jupyter-widgets/controls",
            "_view_module_version": "1.5.0",
            "_view_name": "HBoxView",
            "box_style": "",
            "children": [
              "IPY_MODEL_0423294bc5e34dcdbef02f001a0656af",
              "IPY_MODEL_b5799a56ef1847c3babbf691e36c6ad8",
              "IPY_MODEL_951f03cbc44046089cded5b6abcfc9c0"
            ],
            "layout": "IPY_MODEL_3706d85ac9e342fd9ff10ae3ef98f01f"
          }
        },
        "acfa44d876914ba2b10334d8618dd338": {
          "model_module": "@jupyter-widgets/controls",
          "model_module_version": "1.5.0",
          "model_name": "HTMLModel",
          "state": {
            "_dom_classes": [],
            "_model_module": "@jupyter-widgets/controls",
            "_model_module_version": "1.5.0",
            "_model_name": "HTMLModel",
            "_view_count": null,
            "_view_module": "@jupyter-widgets/controls",
            "_view_module_version": "1.5.0",
            "_view_name": "HTMLView",
            "description": "",
            "description_tooltip": null,
            "layout": "IPY_MODEL_64eb3bbdd2e544768e2e94d3a660ca1a",
            "placeholder": "​",
            "style": "IPY_MODEL_0dd59dfc46b34bd1afcd09678a0566cf",
            "value": " 99.0/99.0 [00:00&lt;00:00, 6.66kB/s]"
          }
        },
        "b3649ae66cdf4ceea5aa6d00975e39b7": {
          "model_module": "@jupyter-widgets/controls",
          "model_module_version": "1.5.0",
          "model_name": "DescriptionStyleModel",
          "state": {
            "_model_module": "@jupyter-widgets/controls",
            "_model_module_version": "1.5.0",
            "_model_name": "DescriptionStyleModel",
            "_view_count": null,
            "_view_module": "@jupyter-widgets/base",
            "_view_module_version": "1.2.0",
            "_view_name": "StyleView",
            "description_width": ""
          }
        },
        "b5799a56ef1847c3babbf691e36c6ad8": {
          "model_module": "@jupyter-widgets/controls",
          "model_module_version": "1.5.0",
          "model_name": "FloatProgressModel",
          "state": {
            "_dom_classes": [],
            "_model_module": "@jupyter-widgets/controls",
            "_model_module_version": "1.5.0",
            "_model_name": "FloatProgressModel",
            "_view_count": null,
            "_view_module": "@jupyter-widgets/controls",
            "_view_module_version": "1.5.0",
            "_view_name": "ProgressView",
            "bar_style": "success",
            "description": "",
            "description_tooltip": null,
            "layout": "IPY_MODEL_bdcb643a860c41d4a0fe1f6c6702c390",
            "max": 147,
            "min": 0,
            "orientation": "horizontal",
            "style": "IPY_MODEL_ce9be3527cb042dd8bac9d71a86d7bad",
            "value": 147
          }
        },
        "b6813198f9294e798b47ecdfe3e8e050": {
          "model_module": "@jupyter-widgets/base",
          "model_module_version": "1.2.0",
          "model_name": "LayoutModel",
          "state": {
            "_model_module": "@jupyter-widgets/base",
            "_model_module_version": "1.2.0",
            "_model_name": "LayoutModel",
            "_view_count": null,
            "_view_module": "@jupyter-widgets/base",
            "_view_module_version": "1.2.0",
            "_view_name": "LayoutView",
            "align_content": null,
            "align_items": null,
            "align_self": null,
            "border": null,
            "bottom": null,
            "display": null,
            "flex": null,
            "flex_flow": null,
            "grid_area": null,
            "grid_auto_columns": null,
            "grid_auto_flow": null,
            "grid_auto_rows": null,
            "grid_column": null,
            "grid_gap": null,
            "grid_row": null,
            "grid_template_areas": null,
            "grid_template_columns": null,
            "grid_template_rows": null,
            "height": null,
            "justify_content": null,
            "justify_items": null,
            "left": null,
            "margin": null,
            "max_height": null,
            "max_width": null,
            "min_height": null,
            "min_width": null,
            "object_fit": null,
            "object_position": null,
            "order": null,
            "overflow": null,
            "overflow_x": null,
            "overflow_y": null,
            "padding": null,
            "right": null,
            "top": null,
            "visibility": null,
            "width": null
          }
        },
        "ba77cbbebcb4430d9c7ae3a253734bcb": {
          "model_module": "@jupyter-widgets/base",
          "model_module_version": "1.2.0",
          "model_name": "LayoutModel",
          "state": {
            "_model_module": "@jupyter-widgets/base",
            "_model_module_version": "1.2.0",
            "_model_name": "LayoutModel",
            "_view_count": null,
            "_view_module": "@jupyter-widgets/base",
            "_view_module_version": "1.2.0",
            "_view_name": "LayoutView",
            "align_content": null,
            "align_items": null,
            "align_self": null,
            "border": null,
            "bottom": null,
            "display": null,
            "flex": null,
            "flex_flow": null,
            "grid_area": null,
            "grid_auto_columns": null,
            "grid_auto_flow": null,
            "grid_auto_rows": null,
            "grid_column": null,
            "grid_gap": null,
            "grid_row": null,
            "grid_template_areas": null,
            "grid_template_columns": null,
            "grid_template_rows": null,
            "height": null,
            "justify_content": null,
            "justify_items": null,
            "left": null,
            "margin": null,
            "max_height": null,
            "max_width": null,
            "min_height": null,
            "min_width": null,
            "object_fit": null,
            "object_position": null,
            "order": null,
            "overflow": null,
            "overflow_x": null,
            "overflow_y": null,
            "padding": null,
            "right": null,
            "top": null,
            "visibility": null,
            "width": null
          }
        },
        "bc8340571faf48fea921c01e2ef3cbb7": {
          "model_module": "@jupyter-widgets/controls",
          "model_module_version": "1.5.0",
          "model_name": "FloatProgressModel",
          "state": {
            "_dom_classes": [],
            "_model_module": "@jupyter-widgets/controls",
            "_model_module_version": "1.5.0",
            "_model_name": "FloatProgressModel",
            "_view_count": null,
            "_view_module": "@jupyter-widgets/controls",
            "_view_module_version": "1.5.0",
            "_view_name": "ProgressView",
            "bar_style": "success",
            "description": "",
            "description_tooltip": null,
            "layout": "IPY_MODEL_1705ce702bc34cf5afbc90576bfb956b",
            "max": 82,
            "min": 0,
            "orientation": "horizontal",
            "style": "IPY_MODEL_f18731c90ac04cb3a58ecd85dd370a54",
            "value": 82
          }
        },
        "bdcb643a860c41d4a0fe1f6c6702c390": {
          "model_module": "@jupyter-widgets/base",
          "model_module_version": "1.2.0",
          "model_name": "LayoutModel",
          "state": {
            "_model_module": "@jupyter-widgets/base",
            "_model_module_version": "1.2.0",
            "_model_name": "LayoutModel",
            "_view_count": null,
            "_view_module": "@jupyter-widgets/base",
            "_view_module_version": "1.2.0",
            "_view_name": "LayoutView",
            "align_content": null,
            "align_items": null,
            "align_self": null,
            "border": null,
            "bottom": null,
            "display": null,
            "flex": null,
            "flex_flow": null,
            "grid_area": null,
            "grid_auto_columns": null,
            "grid_auto_flow": null,
            "grid_auto_rows": null,
            "grid_column": null,
            "grid_gap": null,
            "grid_row": null,
            "grid_template_areas": null,
            "grid_template_columns": null,
            "grid_template_rows": null,
            "height": null,
            "justify_content": null,
            "justify_items": null,
            "left": null,
            "margin": null,
            "max_height": null,
            "max_width": null,
            "min_height": null,
            "min_width": null,
            "object_fit": null,
            "object_position": null,
            "order": null,
            "overflow": null,
            "overflow_x": null,
            "overflow_y": null,
            "padding": null,
            "right": null,
            "top": null,
            "visibility": null,
            "width": null
          }
        },
        "c95a1e658e8c451c975a1c2ab0771745": {
          "model_module": "@jupyter-widgets/controls",
          "model_module_version": "1.5.0",
          "model_name": "FloatProgressModel",
          "state": {
            "_dom_classes": [],
            "_model_module": "@jupyter-widgets/controls",
            "_model_module_version": "1.5.0",
            "_model_name": "FloatProgressModel",
            "_view_count": null,
            "_view_module": "@jupyter-widgets/controls",
            "_view_module_version": "1.5.0",
            "_view_name": "ProgressView",
            "bar_style": "success",
            "description": "",
            "description_tooltip": null,
            "layout": "IPY_MODEL_06c1a66ac92d4bf78ee98d103de714c1",
            "max": 553,
            "min": 0,
            "orientation": "horizontal",
            "style": "IPY_MODEL_5193afa73e954d4eaf3c2c3739cae020",
            "value": 553
          }
        },
        "cd6afd1183914afeb168ffabe86c4f81": {
          "model_module": "@jupyter-widgets/controls",
          "model_module_version": "1.5.0",
          "model_name": "HTMLModel",
          "state": {
            "_dom_classes": [],
            "_model_module": "@jupyter-widgets/controls",
            "_model_module_version": "1.5.0",
            "_model_name": "HTMLModel",
            "_view_count": null,
            "_view_module": "@jupyter-widgets/controls",
            "_view_module_version": "1.5.0",
            "_view_name": "HTMLView",
            "description": "",
            "description_tooltip": null,
            "layout": "IPY_MODEL_8cfbbab33fee45faa992edf7d5782eeb",
            "placeholder": "​",
            "style": "IPY_MODEL_e340946568ce43339a2a26708b5ec4ef",
            "value": "pytorch_model.bin: 100%"
          }
        },
        "ce9be3527cb042dd8bac9d71a86d7bad": {
          "model_module": "@jupyter-widgets/controls",
          "model_module_version": "1.5.0",
          "model_name": "ProgressStyleModel",
          "state": {
            "_model_module": "@jupyter-widgets/controls",
            "_model_module_version": "1.5.0",
            "_model_name": "ProgressStyleModel",
            "_view_count": null,
            "_view_module": "@jupyter-widgets/base",
            "_view_module_version": "1.2.0",
            "_view_name": "StyleView",
            "bar_color": null,
            "description_width": ""
          }
        },
        "d230a204f56d4636a049418eb428d03f": {
          "model_module": "@jupyter-widgets/base",
          "model_module_version": "1.2.0",
          "model_name": "LayoutModel",
          "state": {
            "_model_module": "@jupyter-widgets/base",
            "_model_module_version": "1.2.0",
            "_model_name": "LayoutModel",
            "_view_count": null,
            "_view_module": "@jupyter-widgets/base",
            "_view_module_version": "1.2.0",
            "_view_name": "LayoutView",
            "align_content": null,
            "align_items": null,
            "align_self": null,
            "border": null,
            "bottom": null,
            "display": null,
            "flex": null,
            "flex_flow": null,
            "grid_area": null,
            "grid_auto_columns": null,
            "grid_auto_flow": null,
            "grid_auto_rows": null,
            "grid_column": null,
            "grid_gap": null,
            "grid_row": null,
            "grid_template_areas": null,
            "grid_template_columns": null,
            "grid_template_rows": null,
            "height": null,
            "justify_content": null,
            "justify_items": null,
            "left": null,
            "margin": null,
            "max_height": null,
            "max_width": null,
            "min_height": null,
            "min_width": null,
            "object_fit": null,
            "object_position": null,
            "order": null,
            "overflow": null,
            "overflow_x": null,
            "overflow_y": null,
            "padding": null,
            "right": null,
            "top": null,
            "visibility": null,
            "width": null
          }
        },
        "d6881fb9af0441448e940e5abce7f08e": {
          "model_module": "@jupyter-widgets/base",
          "model_module_version": "1.2.0",
          "model_name": "LayoutModel",
          "state": {
            "_model_module": "@jupyter-widgets/base",
            "_model_module_version": "1.2.0",
            "_model_name": "LayoutModel",
            "_view_count": null,
            "_view_module": "@jupyter-widgets/base",
            "_view_module_version": "1.2.0",
            "_view_name": "LayoutView",
            "align_content": null,
            "align_items": null,
            "align_self": null,
            "border": null,
            "bottom": null,
            "display": null,
            "flex": null,
            "flex_flow": null,
            "grid_area": null,
            "grid_auto_columns": null,
            "grid_auto_flow": null,
            "grid_auto_rows": null,
            "grid_column": null,
            "grid_gap": null,
            "grid_row": null,
            "grid_template_areas": null,
            "grid_template_columns": null,
            "grid_template_rows": null,
            "height": null,
            "justify_content": null,
            "justify_items": null,
            "left": null,
            "margin": null,
            "max_height": null,
            "max_width": null,
            "min_height": null,
            "min_width": null,
            "object_fit": null,
            "object_position": null,
            "order": null,
            "overflow": null,
            "overflow_x": null,
            "overflow_y": null,
            "padding": null,
            "right": null,
            "top": null,
            "visibility": null,
            "width": null
          }
        },
        "e340946568ce43339a2a26708b5ec4ef": {
          "model_module": "@jupyter-widgets/controls",
          "model_module_version": "1.5.0",
          "model_name": "DescriptionStyleModel",
          "state": {
            "_model_module": "@jupyter-widgets/controls",
            "_model_module_version": "1.5.0",
            "_model_name": "DescriptionStyleModel",
            "_view_count": null,
            "_view_module": "@jupyter-widgets/base",
            "_view_module_version": "1.2.0",
            "_view_name": "StyleView",
            "description_width": ""
          }
        },
        "f18731c90ac04cb3a58ecd85dd370a54": {
          "model_module": "@jupyter-widgets/controls",
          "model_module_version": "1.5.0",
          "model_name": "ProgressStyleModel",
          "state": {
            "_model_module": "@jupyter-widgets/controls",
            "_model_module_version": "1.5.0",
            "_model_name": "ProgressStyleModel",
            "_view_count": null,
            "_view_module": "@jupyter-widgets/base",
            "_view_module_version": "1.2.0",
            "_view_name": "StyleView",
            "bar_color": null,
            "description_width": ""
          }
        },
        "f35f950f4a34487790ecec17485b6c41": {
          "model_module": "@jupyter-widgets/controls",
          "model_module_version": "1.5.0",
          "model_name": "HBoxModel",
          "state": {
            "_dom_classes": [],
            "_model_module": "@jupyter-widgets/controls",
            "_model_module_version": "1.5.0",
            "_model_name": "HBoxModel",
            "_view_count": null,
            "_view_module": "@jupyter-widgets/controls",
            "_view_module_version": "1.5.0",
            "_view_name": "HBoxView",
            "box_style": "",
            "children": [
              "IPY_MODEL_4cc934f0cab048f5aff3713d69705874",
              "IPY_MODEL_bc8340571faf48fea921c01e2ef3cbb7",
              "IPY_MODEL_a8390cfb6a204410832d8d8517a37ff9"
            ],
            "layout": "IPY_MODEL_8a3196d617844d8c8bc7e8ceb4075c2a"
          }
        },
        "f36d9530d13b4dba84e47b32d5cc9dfb": {
          "model_module": "@jupyter-widgets/controls",
          "model_module_version": "1.5.0",
          "model_name": "HTMLModel",
          "state": {
            "_dom_classes": [],
            "_model_module": "@jupyter-widgets/controls",
            "_model_module_version": "1.5.0",
            "_model_name": "HTMLModel",
            "_view_count": null,
            "_view_module": "@jupyter-widgets/controls",
            "_view_module_version": "1.5.0",
            "_view_name": "HTMLView",
            "description": "",
            "description_tooltip": null,
            "layout": "IPY_MODEL_6fd9bfbf86384f5ca2d725523129a76e",
            "placeholder": "​",
            "style": "IPY_MODEL_8c974d52c0a2478895a2fa0515237f03",
            "value": "config.json: 100%"
          }
        }
      }
    }
  },
  "nbformat": 4,
  "nbformat_minor": 0
}